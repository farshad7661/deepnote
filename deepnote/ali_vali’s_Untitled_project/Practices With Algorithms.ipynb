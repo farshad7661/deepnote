{
  "cells": [
    {
      "cell_type": "markdown",
      "source": "# سوال اول",
      "metadata": {
        "formattedRanges": [],
        "cell_id": "a44dbc2313df434591b621ba98f85847",
        "deepnote_cell_type": "text-cell-h1"
      },
      "block_group": "23816856ada34126934085193b9bc62c"
    },
    {
      "cell_type": "code",
      "source": "#Let’s code!\n#\n# 1. Fruits and veggies. Given the following list:\nfruits_and_veggies = [\"peppers\", \"apricots\", \"carrots\", \"apples\", \"zucchini\",\"grapes\", \"cabbage\", \"oranges\", \"asparagus\", \"pears\"]\n# Use slicing to extract:\n# --------------------------------------------#---\n# a. The produce between apples and grapes (inclu#ded)\n# indices : \"apples\", \"zucchini\",\"grapes\",345 --> \n# 3:5+1:1 \nprint(fruits_and_veggies[3:6:1])\n\n# --------------------------------------#---------\n# b. All the #vegetables\n# لی#س#ت سبزیجات \n# vegetables = [\"peppers\", \"carrots\", \"zucchini\", \"cabbage\", \"asparagus\"]\n\nprint(fruits_and_veggies[0::2])\n# 0::2\n# 0:9:2\n# 0:8+1:2\n# 02468\n\n# ----------------------------------#-------------\n# c. #All the fruits\n#\n# لیست میوه ها \n\n\nprint(fruits_and_veggies[1::2])\n\n# 1::2\n# 1:10:2\n# 1:9+1:2\n# 13579\n# fruits': ['apricots', 'apples', 'grapes', 'oranges', 'pears\n# ------------------------------#-----------------\n# d. The vegetables between carrots and asparagus (included)\nprint(fruits_and_veggies[2::2])\n# 2::2\n# 2:9:2\n# 2468\n# ---------------------------#--------------------\n# e. The fruits between apples and oranges(included)\n\nfruits_and_veggies[3:8:2]\n# 3:8:2\n# 357\n\n\n# --tions[new inices]\n# print(\"Destinations for africa : \" + african_destinations)\n# print(\"Destinations for america : \" + american_destinations)\n# print(\"Destinations for asia : \" + asian_destinations)\n# And, finally, you close the shop,\n# go home, and enjoy your evening after a hard day of work!\n# ",
      "metadata": {
        "source_hash": null,
        "execution_start": 1723547318040,
        "execution_millis": 82,
        "deepnote_to_be_reexecuted": false,
        "cell_id": "f98932eefd5640e3a36dac0b4109e2e3",
        "deepnote_cell_type": "code"
      },
      "outputs": [],
      "outputs_reference": null,
      "execution_count": null,
      "block_group": "3c751977483f4fc6a781f835a268cf7c",
      "content_dependencies": null
    },
    {
      "cell_type": "markdown",
      "source": "# سوال دوم",
      "metadata": {
        "formattedRanges": [],
        "cell_id": "10c61c5e4fcc4117955df008f2aeba25",
        "deepnote_cell_type": "text-cell-h1"
      },
      "block_group": "8c37f32f7db845a48dcdac2b989a5d4b"
    },
    {
      "cell_type": "code",
      "source": "#---------------------------------------------------------------------------------------------------------------------------------------------\n#2. Clothes, stationery, and electronics. Given the following list:\nobjects = [\"mobile\", \"t_shirt\", \"pencil\", \"laptop\", \"hat\", \"ruler\", \"tv\", \"pants\",\"pen\"]\n#Use slicing to extract:\n\n#a. All the clothes\nprint(objects)\nprint(objects[1::3])\n\n#1::3\n#1:8:3\n#1:7+1:3\n# ا#ندیس اول تا اندیس آخر لباس ها + 1 \n#گام : 3 \n#قانون بعلاوه یک \n#اندیس اول : 1\n#اندیس دوم 4\n#اندیس آخر : 7 \n\n#اندیس لباس ها \n#147\n#لیست لباس ها \n#[ \"t_shirt\", \"hat\", \", \", \"pants\"\n# -----------------------------------------------\n#b. All the stationery\nprint(objects[2::3])\n#2::3\n#2:9:3\n#2:8+1:3\n\n#محدوده : اندیس اول تا اندیس آخر + 1  با گام فلان \n#گام : 3\n#اندیس اول \n#2\n#اندیس وسط \n#5\n#اندیس آخر \n#8\n# اندیس لوازم التحریر#\n#258\n#لیست \n#[, \"pencil\", \", , \"ruler\", , \",\"pen\"]\n# -----------------------------------------------\n#c. All the electronics\nprint(objects[:7:3])\n#:7:3\n#0:7:3\n#0:6+1:3\n#محدوده اندیس ها : اندیس اول تا اندیس آخر  بعلاوه یک با گام مدنظر \n#اندیس اول0\n#اندیس دوم 3\n#اندیس سوم 6\n\n#[\"mobile\", \"  , \"laptop\",  \", \"tv\", \" \"]\n#[\"mobile\", \"t_shirt\", \"pencil\", \"laptop\", \"hat\", \"ruler\", \"tv\", \"pants\",\"pen\"]\n# -----------------------------------------------\n# d. The second and the last stationery items\nprint(objects[5::3])\n\n# 5::3\n# 5:8:3\n# محدوده اندیس ها : اندیس ال تا آندیس آخر بعلاوه یک با گام مدنظر\n# اندیس المان تحریری دوم و آخری\n# دوم 5\n# آخری8\n# -----------------------------------------------\n#e. The first and the last electronics items\nprint(objects[:7:6])\n\n#المان اول\n#المان اخر\n#-----------------------------------------------\n#f. The first and the second clothing items\nprint(objects[1:5:3])\n#المان اول و دوم لباس ها \n#اول\n#دوم\n\n",
      "metadata": {
        "source_hash": null,
        "execution_start": 1723547752301,
        "execution_millis": 99,
        "deepnote_to_be_reexecuted": false,
        "cell_id": "17c3a1ad3a01424ca1da1e9c7ee8e5a0",
        "deepnote_cell_type": "code"
      },
      "outputs": [],
      "outputs_reference": null,
      "execution_count": null,
      "block_group": "b2b9cb0c136942fb9bf741c8d7d55dc9",
      "content_dependencies": null
    },
    {
      "cell_type": "code",
      "source": "",
      "metadata": {
        "cell_id": "5f67c57b8eba4f459147b2685eb9636c",
        "deepnote_cell_type": "code"
      },
      "outputs": [],
      "outputs_reference": null,
      "execution_count": null,
      "block_group": "40c1982d7e364d79a3cacb6bb322324b",
      "content_dependencies": null
    },
    {
      "cell_type": "markdown",
      "source": "",
      "metadata": {
        "formattedRanges": [],
        "cell_id": "c853bf21b3da4a3f843c2030a8f68e39",
        "deepnote_cell_type": "text-cell-p"
      },
      "block_group": "3fc549ccea5042d0ab596686f7b871e0"
    },
    {
      "cell_type": "markdown",
      "source": "# سوال سوم ",
      "metadata": {
        "formattedRanges": [],
        "cell_id": "c56a5601295a4fd59ea037182614025a",
        "deepnote_cell_type": "text-cell-h1"
      },
      "block_group": "f769e6df5c554916b30f1291f3e4d11a"
    },
    {
      "cell_type": "markdown",
      "source": "",
      "metadata": {
        "formattedRanges": [],
        "cell_id": "ecf81094ef564b0993be612c3bdb09e4",
        "deepnote_cell_type": "text-cell-p"
      },
      "block_group": "4f0718ab77e947c9bcea7c7c5a8f2f64"
    },
    {
      "cell_type": "code",
      "source": "interior_design = [\"sofa\", \"curtain\", \"lamp\",\"table\", \"carpet\", \"plant\", \"armchair\", \"blanket\", \"vase\"]\n#a. All furniture\n# furniture = [\"sofa\", \"table\", \"armchair\"]\n\ninterior_design[0:7:3]\n# 036\n#indices:\n #+\n #-\n#اسمشون رو نیاز داریم \n#باید دسته بندی بشن \n#گیاه #\n#قا\n#میز\n#-----------------------------------------------\n#3b. All textiles\n\n# textiles = [\"curtain\", \"carpet\", \"blanket\"]\ninterior_design[1::3]\n# 147\n#indices  \n #+ \n #- \n#-----------------------------------------------\n\n#c. All decorative elements\n# decorative_elements = [\"lamp\", \"plant\", \"vase\"]\ninterior_design[2::3]\n# 258\n#indices\n #+\n #-\n#-----------------------------------------------\n#3d. The pieces composed of 5 letters (count them by hand, no coding required)\n\ninterior_design[3:6:2]\n#indices\n# +\n# -",
      "metadata": {
        "source_hash": null,
        "execution_start": 1723548402480,
        "execution_millis": 43,
        "deepnote_to_be_reexecuted": false,
        "cell_id": "d0bed79701e24d659c8c72c9374c8c1a",
        "deepnote_cell_type": "code"
      },
      "outputs": [],
      "outputs_reference": null,
      "execution_count": null,
      "block_group": "d7a53fc6650240b89fc1ea97f1379907",
      "content_dependencies": null
    },
    {
      "cell_type": "code",
      "source": "",
      "metadata": {
        "cell_id": "380128d31ddd4562adc461f15ffeb2bd",
        "deepnote_cell_type": "code"
      },
      "outputs": [],
      "outputs_reference": null,
      "execution_count": null,
      "block_group": "fa35925a900a4800904396a600141415",
      "content_dependencies": null
    },
    {
      "cell_type": "markdown",
      "source": "# سوال چهار",
      "metadata": {
        "formattedRanges": [],
        "cell_id": "3fe25bdf3a3e4d30b2a6ad5255283835",
        "deepnote_cell_type": "text-cell-h1"
      },
      "block_group": "204b359ac04d47f1bf684ede337a8319"
    },
    {
      "cell_type": "code",
      "source": "# ---------------------------------------------------------------------------------------------------------------------------------------------\n#4. Botanic garden. Given the following list:\nbotanic_garden = [\"tulip\", \"pine\", \"poppy\", \"palm\", \"rose\", \"oak\", \"daisy\",\"eucalyptus\"]\n# Use slicing to extract the following elements, once in direct order (from left to right) and once in\n#inverse order (from right to left):\n#-----------------------------------------------\n#a. All flowers\n\n\n# 0246\n# flowers = [\"tulip\", \"poppy\", \"rose\", \"daisy\"]\n\n#ترتیب مستقیم : +\nbotanic_garden[::2]\n#ترتیب برعکس : -\nbotanic_garden[-2:-9:-2]\n\n\n\n# -2:-9:-2\n# -2-4-6-8\n#+\n#-\n#-----------------------------------------------\n\n#b. All trees\n\n# trees = [\"pine\", \"palm\", \"oak\", \"eucalyptus\"]\n#+\nbotanic_garden[1::2]\n\n# 1357         1:8:2       botanic_garden[1::2]\n#-\n\nbotanic_garden[-1:-8:-2]\n# -1-3-5-7       botanic_garden[-1:-8:-2]\n\n#-----------------------------------------------\n\n#c. All flowers and trees starting with p (find them by hand, no coding required)\n#+\nbotanic_garden[1:4:1]\n\n#-\nbotanic_garden[-5:-8:-1]\n\n#-----------------------------------------------\n\n#d. \"pine\", \"rose\", and \"eucalyptus\"\n#3+\n#3-\n#-----------------------------------------------\n\n#e. All flowers and trees\n#+\n\n\n# --------------------------\n# d. \"pine\", \"rose\", and \"eucalyptus\"\nbotanic_garden[1::3]\n# 147     botainc_garden[1::3]\n# +\n\n\n\n# -\nbotanic_garden[-1::-3]\n# -1-4-7      botanic_graden[-1::-3]\n\n# ------------------------------------------------\n# e. All flowers and trees\n\n# +\nprint(botanic_garden[:])\n# -\nprint(botanic_garden[::-1])",
      "metadata": {
        "source_hash": null,
        "execution_start": 1723549573998,
        "execution_millis": 184,
        "deepnote_to_be_reexecuted": false,
        "cell_id": "fc4eec43e5c7419d81a02427cae52e72",
        "deepnote_cell_type": "code"
      },
      "outputs": [],
      "outputs_reference": null,
      "execution_count": null,
      "block_group": "3a9ae337947f4aa0841a405f7fcc632f",
      "content_dependencies": null
    },
    {
      "cell_type": "markdown",
      "source": "# سوال پنج ",
      "metadata": {
        "formattedRanges": [],
        "cell_id": "2fe00a7780564a6bbc8087e02207f8e7",
        "deepnote_cell_type": "text-cell-h1"
      },
      "block_group": "c7a943134b2643a5b39fd152774d3d5b"
    },
    {
      "cell_type": "code",
      "source": "#---------------------------------------------------------------------------------------------------------------------------------------------\n#5. Travel agency. You are the owner of a travel agency and these are the destinations you offer:\n\ndestinations = [\"Boston\", \"Madrid\", \"Shanghai\", \"Cairo\", \"Mexico City\", \"Copenhagen\",\"Seoul\", \"Casablanca\", \"Lima\", \"Vienna\", \"Bangkok\", \"Nairobi\", \"Buenos Aires\",\n\"Athens\", \"Manila\", \"Cape Town\"]\n#You also have a list containing additional destinations you want to offer in the future:\nfuture_destinations = [\"Tunis\"]\n#a. A new customer comes in and you \n#ask where he would like to go \ncustomer_destination = input(print(\"Where do you wanna go ?\"))\n\n #He replies: Berlin. \n# entere : Berlin\n#You\n#check whether Berlin is part of the destination list.\n #If Berlin is part of the list\nif customer_destination in destinations:\n#, you say that you sell tickets for Berlin.\n    print(\"Yes , we sell tickets for \" + customer_destination )\n# If Berlin is not part of the destination list,\nelse:\n# you: (1) tell the customer\n#that you do not sell tickets for Berlin;\n     print(\"Sorry, we don't sell ticket for \" + customer_destination ) \n#(2) tell him what European cities are in the destination\n#list;\n#لیست کشورهایی اروپایی رو از لیست جدا کن \n\n# and (3) add Berlin to the list of future destinations.\nfuture_destinations.append(customer_destination)\n\n#.remove()\n#.append()\n#.pop()\n#.insert\n#-----------------------------------------------\n",
      "metadata": {
        "source_hash": null,
        "execution_start": 1723550699011,
        "execution_millis": 6817,
        "deepnote_to_be_reexecuted": false,
        "cell_id": "5cae2576a26d4a3685d55d5583e92823",
        "deepnote_cell_type": "code"
      },
      "outputs": [],
      "outputs_reference": null,
      "execution_count": null,
      "block_group": "f221d63cf35a41c6aee390f27bf1afe9",
      "content_dependencies": null
    },
    {
      "cell_type": "code",
      "source": "#b. Because tickets for Berlin are not available, your customer is now thinking about going to\n#Asia. \n#So you tell him the destinations in Asia.\n# asian_destinations = [\"Shanghai\", \"Seoul\", \"Bangkok\", \"Manila\"] \n# 261014\n\nasian_destinations = destinations[2::4]\nprint(\"Travel Agency: Also we have some places in asia as follows : \" )\nprint(asian_destinations)\n\n#پرینت کشورهایی آسیایی که توی لیست هستن با برش و اسلایسینگ و ذخیره شون توی یک متغیر \n\n#indices  =>  لیستشون رو پیدا کن \n#He tells you that he forgot the last two Asian\n#places you mentioned; so you tell them again.\nprint(\"Travel Agency: They are as follows : \"  )\nprint(destinations[-2:-7:-4])\n#asian_destinations[-1:-3:-1]\n#-1و-2\n#-1:-3:-1\n#به روش اندیس گذاری منفی ترتیب مستقیم \n\n\n#اندیس های دو ایتم آخر مکان های آسیایی\n#مکان های آسیایی اندیس شون \n\n #Then, he says he would have enjoyed going to\n#Hong Kong.\nprint(\"Customer: I want to go to Hong Kong \")\n# But Hong Kong is not an available destination, so you add it to the list of future\n#destinations.\nfuture_destinations.append(\"Hong Kong\")\n#-----------------------------------------------\n",
      "metadata": {
        "source_hash": null,
        "execution_start": 1723550709004,
        "execution_millis": 29,
        "deepnote_to_be_reexecuted": false,
        "cell_id": "b5fa76c9ef97441c8a278ffcf1f22ac3",
        "deepnote_cell_type": "code"
      },
      "outputs": [],
      "outputs_reference": null,
      "execution_count": null,
      "block_group": "5e1d20f5760347fcbef0667936d9bfa3",
      "content_dependencies": null
    },
    {
      "cell_type": "code",
      "source": "#c. Now you ask your customer if he is interested in going to the American continent\ncustomer_american_destination = input(print(\"Would you like to go to american continent places ? \"))\n\n#, and hereplies: Toronto.\n# Enter: Toronto\n\n #You check whether Toronto is part of the list. Similarly to what you did\n#for Berlin, if Toronto is part of the list, \n#you say that you sell tickets for Toronto.\nif customer_american_destination in destinatons:\n    print(\"Yes ,we sell tickets for \" + customer_american_destinaion) \n\n\n#If Toronto is not part of the destination list, \n#you: (1) tell your customer that you do not sell tickets for\n#Toronto, \nelse:\n    print(\"Sorry, we don't sell tickets for \" + customer_american_destination )\n#(2) tell him what cities on the American continent are in the destination list,\n\nprint(\"We also offer some american continent places as follows  \"  )\namerican_destionations = destinations[0:13:4]\n\nprint(american_destinations)\n\n# american_destinations = [\"Boston\", \"Mexico City\", \"Lima\", \"Buenos Aires\"]\n\n# 04812\n#لیست کشورهای امریکایی که توی مقاصد سفر هستن \n\n#and (3) add Toronto to the list of future destinations.\nfuture_destinations.append(customer_american_destination)\n",
      "metadata": {
        "source_hash": null,
        "execution_start": 1723550712173,
        "execution_millis": 70,
        "deepnote_to_be_reexecuted": false,
        "cell_id": "89e178f8e0ca44f19ed9c581e787c0ff",
        "deepnote_cell_type": "code"
      },
      "outputs": [],
      "outputs_reference": null,
      "execution_count": null,
      "block_group": "f8180f37ab08449791defe6bd33e2862",
      "content_dependencies": null
    },
    {
      "cell_type": "code",
      "source": "customer_american_destination = input(print(\"Would you like to go to american continent places ?\"))\nif customer_american_destination in destinations:\n    print(\"Yes , we sell tickets for \" + customer_american_destination)\nelse:\n    print(\"Sorry, we do't sell teckets for \" + customer_american_destination)\n\nprint(\"We also offer some american continent places as follows :\")\namerican_destinations = destinations[0:13:4]\nprint(american_destinations)\nfuture_destinations.append(customer_american_destinaion)\n",
      "metadata": {
        "source_hash": null,
        "execution_start": 1723551559416,
        "execution_millis": 5352,
        "deepnote_to_be_reexecuted": false,
        "cell_id": "e034542b57c343db847ec6d3e0dc4a71",
        "deepnote_cell_type": "code"
      },
      "outputs": [],
      "outputs_reference": null,
      "execution_count": null,
      "block_group": "c9543e3e93434076869a298651b3185c",
      "content_dependencies": null
    },
    {
      "cell_type": "code",
      "source": "#-----------------------------------------------\n#d. The customer is still undecided. You think he might be interested in a trip to Africa, so you\n #tell him all the destinations in Africa.\n# african_destinations = [\"Cairo\", \"Casablanca\", \"Nairobi\", \"Cape Town\"]\n\nafrican_destinations = destinations[3::4]\n#اندیس مقاصد آفریقایی\n# 371115\nprint(\"Also we have african continent places for you as follows :\"  )\n\ncustomer_african_destination = input(print(\"Would you like to trip to them ?\"))\n\n# He finally tells you that he wants to go to Cape Town!\n# Enter: Cape Town\n #So you replace Cape Town from the list of destinations\n #with Tunis from the list of future destinations,\ntunis_index = future_destinations.index(\"Tunis\")\ncape_town_index = destinations.index(\"Cape Town\")\ndestinations.pop(cape_town_index)\ndestinations.insert(cape_town_index,future_destinations[tunis_index])\n#.pop()\n#.insert(arg1,arg2)\n#and remove Tunis from the future destination list.\nfuture_destinations.pop(tunis_index)\n#-----------------------------------------------\n#e. The customer is finally gone, and you want to create a flyer (ینی چی )with all the destinations you offer. \n#To do so, you add the three new future destinations to the list of current destinations (in\n#what order?), \n#  current_destinations = future_destinations[:]\n\n\n#and you print out the destinations you offer for each continent.\n #While doing so,\n#you notice that Africa only has four destinations.\n# So you \n#add one African destination to the destination list \n#  african_destinations.append(\"arbitary place in africa\")\n#یه مکان دیگه غیر از این ها برای کشور افریقا پیدا کن و اضافش کن \n#before printing out the African destinations. \n#چاپ مقادیر برای هر قاره \n\n#updated_african_destinations = destinations[new inices]\n#  print(\"Destinations for africa : \" + african_destinations)\n#  print(\"Destinations for america : \" + american_destinations)\n#  print(\"Destinations for asia : \" + asian_destinations)\n#And, finally, you close the shop,\n#go home, and enjoy your evening after a hard day of work!\n",
      "metadata": {
        "cell_id": "53a2ecf68c634fc18cf28a6c2678d4e8",
        "deepnote_cell_type": "code"
      },
      "outputs": [],
      "outputs_reference": null,
      "execution_count": null,
      "block_group": "9ffd82e2e8f3438cadbed53568f00f87",
      "content_dependencies": null
    },
    {
      "cell_type": "code",
      "source": "african_destinations = destinations[3::4]\nprint(\"Also we have afrcian continent places for you as follows : \")\ncustomer_african_destination = input(print(\"Would you like to trip to them ?\"))\ntunis_index = future_destinations.index(\"Tunis\")\n\ncape_town_index = destinations.index(\"Cape Town\")\ndestinations.pop(cape_town_index)\ndestinations.insert(cape_town_index,future_destinations[tunis_index])\n\nfuture_destinations.pop(tunis_index)\n\n",
      "metadata": {
        "source_hash": null,
        "execution_start": 1723552457208,
        "execution_millis": 7511,
        "deepnote_to_be_reexecuted": false,
        "cell_id": "a7c7eaa9ae5546aba455cb2e3ceb178a",
        "deepnote_cell_type": "code"
      },
      "outputs": [],
      "outputs_reference": null,
      "execution_count": null,
      "block_group": "edd1fa70d1594aedb772e976674f525e",
      "content_dependencies": null
    },
    {
      "cell_type": "code",
      "source": "#e. The customer is finally gone, and you want to create a flyer (ینی چی )with all the destinations you offer. \n#To do so, you add the three new future destinations to the list of current destinations (in\n#what order?), \ncurrent_destinations = future_destinations[:]\n\n\n#and you print out the destinations you offer for each continent.\n #While doing so,\n#you notice that Africa only has four destinations.\n# So you \n#add one African destination to the destination list \nafrican_destinations.append(\"Johannesburg\")\n#یه مکان دیگه غیر از این ها برای کشور افریقا پیدا کن و اضافش کن \n#before printing out the African destinations. \n#چاپ مقادیر برای هر قاره \n\n#updated_african_destinations = destinations[new inices]\nprint(\"Destinations for africa : \")\nafrican_destinations\nprint(\"Destinations for america : \" )\namerican_destinations\nprint(\"Destinations for asia : \"  )\nasian_destinations\n#And, finally, you close the shop,\n#go home, and enjoy your evening after a hard day of work()",
      "metadata": {
        "source_hash": null,
        "execution_start": 1723553150624,
        "execution_millis": 107,
        "deepnote_to_be_reexecuted": false,
        "cell_id": "f9d67fc92bda4bfaa706c71abd07519b",
        "deepnote_cell_type": "code"
      },
      "outputs": [],
      "outputs_reference": null,
      "execution_count": null,
      "block_group": "f31099efd78343aeab98068efc6bdaf0",
      "content_dependencies": null
    },
    {
      "cell_type": "code",
      "source": "current_destinations = future_destinations[:]\n\nafrican_destinations.append(\"Johannesburg\")\nprint(\"Destinations for africa : \")\nprint(african_destinations)\nprint(\"Destinations for america : \")\nprint(american_destinations)\nprint(\"Destinations for asia: \")\n\nprint(asian_destinations)",
      "metadata": {
        "source_hash": null,
        "execution_start": 1723553105736,
        "execution_millis": 154,
        "deepnote_to_be_reexecuted": false,
        "cell_id": "76a7647013894553879f442ebb034bd7",
        "deepnote_cell_type": "code"
      },
      "outputs": [],
      "outputs_reference": null,
      "execution_count": null,
      "block_group": "76113641acb0454683a801569b102322",
      "content_dependencies": null
    },
    {
      "cell_type": "code",
      "source": "african_destinations",
      "metadata": {
        "source_hash": null,
        "execution_start": 1723553120900,
        "execution_millis": 327,
        "deepnote_to_be_reexecuted": false,
        "cell_id": "47f0cff514974b57bf81d4cc2c295fb2",
        "deepnote_cell_type": "code"
      },
      "outputs": [],
      "outputs_reference": null,
      "execution_count": null,
      "block_group": "97362e8ce2f54f99ad1c3c15ce7b0f51",
      "content_dependencies": null
    },
    {
      "cell_type": "markdown",
      "source": "> میتونی نوت بوک به اسم  Translate رو برام ذخیره کنی با فرمت ipynb",
      "metadata": {
        "color": "purple",
        "cell_id": "ce607f3970ec4c1e9d3a70557ca4e4a4",
        "deepnote_cell_type": "text-cell-callout"
      },
      "block_group": "b716d51213f04b708671b6dfc7533894"
    },
    {
      "cell_type": "code",
      "source": "import nbformat as nbf\n\n# Create a new notebook\nnb = nbf.v4.new_notebook()\n\n# Add cells to the notebook\nnb['cells'] = [\n    nbf.v4.new_markdown_cell(\"# سوال اول\"),\n    nbf.v4.new_code_cell(\"\"\"#Let’s code!\n#\n# 1. Fruits and veggies. Given the following list:\nfruits_and_veggies = [\"peppers\", \"apricots\", \"carrots\", \"apples\", \"zucchini\",\"grapes\", \"cabbage\", \"oranges\", \"asparagus\", \"pears\"]\n# Use slicing to extract:\n# --------------------------------------------#---\n# a. The produce between apples and grapes (inclu#ded)\n# indices : \"apples\", \"zucchini\",\"grapes\",345 --> \n# 3:5+1:1 \nprint(fruits_and_veggies[3:6:1])\n\n# --------------------------------------#---------\n# b. All the #vegetables\n# لی#س#ت سبزیجات \n# vegetables = [\"peppers\", \"carrots\", \"zucchini\", \"cabbage\", \"asparagus\"]\n\nprint(fruits_and_veggies[0::2])\n# 0::2\n# 0:9:2\n# 0:8+1:2\n# 02468\n\n# ----------------------------------#-------------\n# c. #All the fruits\n#\n# لیست میوه ها \n\n\nprint(fruits_and_veggies[1::2])\n\n# 1::2\n# 1:10:2\n# 1:9+1:2\n# 13579\n# fruits': ['apricots', 'apples', 'grapes', 'oranges', 'pears\n# ------------------------------#-----------------\n# d. The vegetables between carrots and asparagus (included)\nprint(fruits_and_veggies[2::2])\n# 2::2\n# 2:9:2\n# 2468\n# ---------------------------#--------------------\n# e. The fruits between apples and oranges(included)\n\nfruits_and_veggies[3:8:2]\n# 3:8:2\n# 357\n\n\n# --tions[new inices]\n# print(\"Destinations for africa : \" + african_destinations)\n# print(\"Destinations for america : \" + american_destinations)\n# print(\"Destinations for asia : \" + asian_destinations)\n# And, finally, you close the shop,\n# go home, and enjoy your evening after a hard day of work!\n\"\"\"),\n    nbf.v4.new_markdown_cell(\"# سوال دوم\"),\n    nbf.v4.new_code_cell(\"\"\"#---------------------------------------------------------------------------------------------------------------------------------------------\n#2. Clothes, stationery, and electronics. Given the following list:\nobjects = [\"mobile\", \"t_shirt\", \"pencil\", \"laptop\", \"hat\", \"ruler\", \"tv\", \"pants\",\"pen\"]\n#Use slicing to extract:\n\n#a. All the clothes\nprint(objects)\nprint(objects[1::3])\n\n#1::3\n#1:8:3\n#1:7+1:3\n# ا#ندیس اول تا اندیس آخر لباس ها + 1 \n#گام : 3 \n#قانون بعلاوه یک \n#اندیس اول : 1\n#اندیس دوم 4\n#اندیس آخر : 7 \n\n#اندیس لباس ها \n#147\n#لیست لباس ها \n#[ \"t_shirt\", \"hat\", \", \", \"pants\"\n# -----------------------------------------------\n#b. All the stationery\nprint(objects[2::3])\n#2::3\n#2:9:3\n#2:8+1:3\n\n#محدوده : اندیس اول تا اندیس آخر + 1  با گام فلان \n#گام : 3\n#اندیس اول \n#2\n#اندیس وسط \n#5\n#اندیس آخر \n#8\n# اندیس لوازم التحریر#\n#258\n#لیست \n#[, \"pencil\", \", , \"ruler\", , \",\"pen\"]\n# -----------------------------------------------\n#c. All the electronics\nprint(objects[:7:3])\n#:7:3\n#0:7:3\n#0:6+1:3\n#محدوده اندیس ها : اندیس اول تا اندیس آخر  بعلاوه یک با گام مدنظر \n#اندیس اول0\n#اندیس دوم 3\n#اندیس سوم 6\n\n#[\"mobile\", \"  , \"laptop\",  \", \"tv\", \" \"]\n#[\"mobile\", \"t_shirt\", \"pencil\", \"laptop\", \"hat\", \"ruler\", \"tv\", \"pants\",\"pen\"]\n# -----------------------------------------------\n# d. The second and the last stationery items\nprint(objects[5::3])\n\n# 5::3\n# 5:8:3\n# محدوده اندیس ها : اندیس ال تا آندیس آخر بعلاوه یک با گام مدنظر\n# اندیس المان تحریری دوم و آخری\n# دوم 5\n# آخری8\n# -----------------------------------------------\n#e. The first and the last electronics items\nprint(objects[:7:6])\n\n#المان اول\n#المان اخر\n#-----------------------------------------------\n#f. The first and the second clothing items\nprint(objects[1:5:3])\n#المان اول و دوم لباس ها \n#اول\n#دوم\n\n\"\"\"),\n    nbf.v4.new_markdown_cell(\"# سوال سوم \"),\n    nbf.v4.new_code_cell(\"\"\"interior_design = [\"sofa\", \"curtain\", \"lamp\",\"table\", \"carpet\", \"plant\", \"armchair\", \"blanket\", \"vase\"]\n#a. All furniture\n# furniture = [\"sofa\", \"table\", \"armchair\"]\n\ninterior_design[0:7:3]\n# 036\n#indices:\n #+\n #-\n#اسمشون رو نیاز داریم \n#باید دسته بندی بشن \n#گیاه #\n#قا\n#میز\n#-----------------------------------------------\n#3b. All textiles\n\n# textiles = [\"curtain\", \"carpet\", \"blanket\"]\ninterior_design[1::3]\n# 147\n#indices  \n #+ \n #- \n#-----------------------------------------------\n\n#c. All decorative elements\n# decorative_elements = [\"lamp\", \"plant\", \"vase\"]\ninterior_design[2::3]\n# 258\n#indices\n #+\n #-\n#-----------------------------------------------\n#3d. The pieces composed of 5 letters (count them by hand, no coding required)\n\ninterior_design[3:6:2]\n#indices\n# +\n# -\"\"\"),\n    nbf.v4.new_markdown_cell(\"# سوال چهار\"),\n    nbf.v4.new_code_cell(\"\"\"# ---------------------------------------------------------------------------------------------------------------------------------------------\n#4. Botanic garden. Given the following list:\nbotanic_garden = [\"tulip\", \"pine\", \"poppy\", \"palm\", \"rose\", \"oak\", \"daisy\",\"eucalyptus\"]\n# Use slicing to extract the following elements, once in direct order (from left to right) and once in\n#inverse order (from right to left):\n#-----------------------------------------------\n#a. All flowers\n\n\n# 0246\n# flowers = [\"tulip\", \"poppy\", \"rose\", \"daisy\"]\n\n#ترتیب مستقیم : +\nbotanic_garden[::2]\n#ترتیب برعکس : -\nbotanic_garden[-2:-9:-2]\n\n\n\n# -2:-9:-2\n# -2-4-6-8\n#+\n#-\n#-----------------------------------------------\n\n#b. All trees\n\n# trees = [\"pine\", \"palm\", \"oak\", \"eucalyptus\"]\n#+\nbotanic_garden[1::2]\n\n# 1357         1:8:2       botanic_garden[1::2]\n#-\n\nbotanic_garden[-1:-8:-2]\n# -1-3-5-7       botanic_graden[-1:-8:-2]\n\n#-----------------------------------------------\n\n#c. All flowers and trees starting with p (find them by hand, no coding required)\n#+\nbotanic_garden[1:4:1]\n\n#-\nbotanic_garden[-5:-8:-1]\n\n#-----------------------------------------------\n\n#d. \"pine\", \"rose\", and \"eucalyptus\"\n#3+\n#3-\n#-----------------------------------------------\n\n#e. All flowers and trees\n#+\n\n\n# --------------------------\n# d. \"pine\", \"rose\", and \"eucalyptus\"\nbotanic_garden[1::3]\n# 147     botainc_garden[1::3]\n# +\n\n\n\n# -\nbotanic_garden[-1::-3]\n# -1-4-7      botanic_graden[-1::-3]\n\n# ------------------------------------------------\n# e. All flowers and trees\n\n# +\nprint(botanic_garden[:])\n# -\nprint(botanic_garden[::-1])\"\"\"),\n    nbf.v4.new_markdown_cell(\"# سوال پنج \"),\n    nbf.v4.new_code_cell(\"\"\"#---------------------------------------------------------------------------------------------------------------------------------------------\n#5. Travel agency. You are the owner of a travel agency and these are the destinations you offer:\n\ndestinations = [\"Boston\", \"Madrid\", \"Shanghai\", \"Cairo\", \"Mexico City\", \"Copenhagen\",\"Seoul\", \"Casablanca\", \"Lima\", \"Vienna\", \"Bangkok\", \"Nairobi\", \"Buenos Aires\",\n\"Athens\", \"Manila\", \"Cape Town\"]\n#You also have a list containing additional destinations you want to offer in the future:\nfuture_destinations = [\"Tunis\"]\n#a. A new customer comes in and you \n#ask where he would like to go \ncustomer_destination = input(print(\"Where do you wanna go ?\"))\n\n #He replies: Berlin. \n# entere : Berlin\n#You\n#check whether Berlin is part of the destination list.\n #If Berlin is part of the list\nif customer_destination in destinations:\n#, you say that you sell tickets for Berlin.\n    print(\"Yes , we sell tickets for \" + customer_destination )\n# If Berlin is not part of the destination list,\nelse:\n# you: (1) tell the customer\n#that you do not sell tickets for Berlin;\n     print(\"Sorry, we don't sell ticket for \" + customer_destination )\n#(2) tell him what European cities are in the destination\n#list;\n#لیست کشورهایی اروپایی رو از لیست جدا کن \n\n# and (3) add Berlin to the list of future destinations.\nfuture_destinations.append(customer_destination)\n\n#.remove()\n#.append()\n#.pop()\n#.insert\n#-----------------------------------------------\n\"\"\"),\n    nbf.v4.new_code_cell(\"\"\"#b. Because tickets for Berlin are not available, your customer is now thinking about going to\n#Asia. \n#So you tell him the destinations in Asia.\n# asian_destinations = [\"Shanghai\", \"Seoul\", \"Bangkok\", \"Manila\"] \n# 261014\n\nasian_destinations = destinations[2::4]\nprint(\"Travel Agency: Also we have some places in asia as follows : \" )\nprint(asian_destinations)\n\n#پرینت کشورهایی آسیایی که توی لیست هستن با برش و اسلایسینگ و ذخیره شون توی یک متغیر \n\n#indices  =>  لیستشون رو پیدا کن \n#He tells you that he forgot the last two Asian\n#places you mentioned; so you tell them again.\nprint(\"Travel Agency: They are as follows : \"  )\nprint(destinations[-2:-7:-4])\n#asian_destinations[-1:-3:-1]\n#-1و-2\n#-1:-3:-1\n#به روش اندیس گذاری منفی ترتیب مستقیم \n\n\n#اندیس های دو ایتم آخر مکان های آسیایی\n#مکان های آسیایی اندیس شون \n\n #Then, he says he would have enjoyed going to\n#Hong Kong.\nprint(\"Customer: I want to go to Hong Kong \")\n# But Hong Kong is not an available destination, so you add it to the list of future\n#destinations.\nfuture_destinations.append(\"Hong Kong\")\n#-----------------------------------------------\n\"\"\"),\n    nbf.v4.new_code_cell(\"\"\"#c. Now you ask your customer if he is interested in going to the American continent\ncustomer_american_destination = input(print(\"Would you like to go to american continent places ? \"))\n\n#, and hereplies: Toronto.\n# Enter: Toronto\n\n #You check whether Toronto is part of the list. Similarly to what you did\n#for Berlin, if Toronto is part of the list, \n#you say that you sell tickets for Toronto.\nif customer_american_destination in destinatons:\n    print(\"Yes ,we sell tickets for \" + customer_american_destinaion) \n\n\n#If Toronto is not part of the destination list, \n#you: (1) tell your customer that you do not sell tickets for\n#Toronto, \nelse:\n    print(\"Sorry, we don't sell tickets for \" + customer_american_destination )\n#(2) tell him what cities on the American continent are in the destination list,\n\nprint(\"We also offer some american continent places as follows  \"  )\namerican_destionations = destinations[0:13:4]\n\nprint(american_destinations)\n\n# american_destinations = [\"Boston\", \"Mexico City\", \"Lima\", \"Buenos Aires\"]\n\n# 04812\n#لیست کشورهای امریکایی که توی مقاصد سفر هستن \n\n#and (3) add Toronto to the list of future destinations.\nfuture_destinations.append(customer_american_destination)\n\"\"\"),\n    nbf.v4.new_code_cell(\"\"\"customer_american_destination = input(print(\"Would you like to go to american continent places ?\"))\nif customer_american_destination in destinations:\n    print(\"Yes , we sell tickets for \" + customer_american_destination)\nelse:\n    print(\"Sorry, we do't sell teckets for \" + customer_american_destination)\n\nprint(\"We also offer some american continent places as follows :\")\namerican_destinations = destinations[0:13:4]\nprint(american_destinations)\nfuture_destinations.append(customer_american_destinaion)\n\"\"\"),\n    nbf.v4.new_code_cell(\"\"\"#-----------------------------------------------\n#d. The customer is still undecided. You think he might be interested in a trip to Africa, so you\n #tell him all the destinations in Africa.\n# african_destinations = [\"Cairo\", \"Casablanca\", \"Nairobi\", \"Cape Town\"]\n\nafrican_destinations = destinations[3::4]\n#اندیس مقاصد آفریقایی\n# 371115\nprint(\"Also we have african continent places for you as follows :\"  )\n\ncustomer_african_destination = input(print(\"Would you like to trip to them ?\"))\n\n# He finally tells you that he wants to go to Cape Town!\n# Enter: Cape Town\n #So you replace Cape Town from the list of destinations\n #with Tunis from the list of future destinations,\ntunis_index = future_destinations.index(\"Tunis\")\ncape_town_index = destinations.index(\"Cape Town\")\ndestinations.pop(cape_town_index)\ndestinations.insert(cape_town_index,future_destinations[tunis_index])\n#.pop()\n#.insert(arg1,arg2)\n#and remove Tunis from the future destination list.\nfuture_destinations.pop(tunis_index)\n#-----------------------------------------------\n#e. The customer is finally gone, and you want to create a flyer (ینی چی )with all the destinations you offer. \n#To do so, you add the three new future destinations to the list of current destinations (in\n#what order?), \n#  current_destinations = future_destinations[:]\n\n\n#and you print out the destinations you offer for each continent.\n #While doing so,\n#you notice that Africa only has four destinations.\n# So you \n#add one African destination to the destination list \n#  african_destinations.append(\"arbitary place in africa\")\n#یه مکان دیگه غیر از این ها برای کشور افریقا پیدا کن و اضافش کن \n#before printing out the African destinations. \n#چاپ مقادیر برای هر قاره \n\n#updated_african_destinations = destinations[new inices]\n#  print(\"Destinations for africa : \" + african_destinations)\n#  print(\"Destinations for america : \" + american_destinations)\n#  print(\"Destinations for asia : \" + asian_destinations)\n#And, finally, you close the shop,\n#go home, and enjoy your evening after a hard day of work!\n\"\"\"),\n    nbf.v4.new_code_cell(\"\"\"african_destinations = destinations[3::4]\nprint(\"Also we have afrcian continent places for you as follows : \")\ncustomer_african_destination = input(print(\"Would you like to trip to them ?\"))\ntunis_index = future_destinations.index(\"Tunis\")\n\ncape_town_index = destinations.index(\"Cape Town\")\ndestinations.pop(cape_town_index)\ndestinations.insert(cape_town_index,future_destinations[tunis_index])\n\nfuture_destinations.pop(tunis_index)\n\"\"\"),\n    nbf.v4.new_code_cell(\"\"\"#e. The customer is finally gone, and you want to create a flyer (ینی چی )with all the destinations you offer. \n#To do so, you add the three new future destinations to the list of current destinations (in\n#what order?), \ncurrent_destinations = future_destinations[:]\n\n\n#and you print out the destinations you offer for each continent.\n #While doing so,\n#you notice that Africa only has four destinations.\n# So you \n#add one African destination to the destination list \nafrican_destinations.append(\"Johannesburg\")\n#یه مکان دیگه غیر از این ها برای کشور افریقا پیدا کن و اضافش کن \n#before printing out the African destinations. \n#چاپ مقادیر برای هر قاره \n\n#updated_african_destinations = destinations[new inices]\nprint(\"Destinations for africa : \")\nafrican_destinations\nprint(\"Destinations for america : \" )\namerican_destinations\nprint(\"Destinations for asia : \"  )\nasian_destinations\n#And, finally, you close the shop,\n#go home, and enjoy your evening after a hard day of work()\"\"\"),\n    nbf.v4.new_code_cell(\"\"\"current_destinations = future_destinations[:]\n\nafrican_destinations.append(\"Johannesburg\")\nprint(\"Destinations for africa : \")\nprint(african_destinations)\nprint(\"Destinations for america : \")\nprint(american_destinations)\nprint(\"Destinations for asia: \")\n\nprint(asian_destinations)\"\"\")\n]\n\n# Save the notebook\nwith open('Translate.ipynb', 'w') as f:\n    nbf.write(nb, f)",
      "metadata": {
        "source_hash": null,
        "execution_start": 1723553267602,
        "execution_millis": 301,
        "deepnote_to_be_reexecuted": false,
        "cell_id": "1087d40aee074e2491eff4022645f4c8",
        "deepnote_cell_type": "code"
      },
      "outputs": [],
      "outputs_reference": null,
      "execution_count": null,
      "block_group": "7b4615ca90554fa9ad7abedd405e3632",
      "content_dependencies": null
    },
    {
      "cell_type": "markdown",
      "source": "فایل نوت بوک با نام \"Translate.ipynb\" ذخیره شد.",
      "metadata": {
        "cell_id": "35275802e1ac49eda90577734579641e",
        "deepnote_cell_type": "text-cell-p"
      },
      "block_group": "cab580cab6574154a68c467227ed677f"
    },
    {
      "cell_type": "markdown",
      "source": "<a style='text-decoration:none;line-height:16px;display:flex;color:#5B5B62;padding:10px;justify-content:end;' href='https://deepnote.com?utm_source=created-in-deepnote-cell&projectId=18d553a4-31da-47a6-90e6-b2ebf6106d37' target=\"_blank\">\n<img alt='Created in deepnote.com' style='display:inline;max-height:16px;margin:0px;margin-right:7.5px;' src='data:image/svg+xml;base64,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' > </img>\nCreated in <span style='font-weight:600;margin-left:4px;'>Deepnote</span></a>",
      "metadata": {
        "created_in_deepnote_cell": true,
        "deepnote_cell_type": "markdown"
      }
    }
  ],
  "nbformat": 4,
  "nbformat_minor": 0,
  "metadata": {
    "deepnote_persisted_session": {
      "createdAt": "2024-08-13T13:10:42.574Z"
    },
    "deepnote_notebook_id": "e28a88ffcda049c5a0ace7731f25e205",
    "deepnote_execution_queue": []
  }
}