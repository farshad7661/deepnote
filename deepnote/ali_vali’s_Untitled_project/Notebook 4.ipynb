{
  "cells": [
    {
      "cell_type": "markdown",
      "source": "> ترجمه کن به فارسی یبرام \nProbability and Statistics: The Science of\nUncertainty",
      "metadata": {
        "color": "purple",
        "cell_id": "df05d54fc8c24cccb29336c00dbac7e1",
        "deepnote_cell_type": "text-cell-callout"
      },
      "block_group": "cc0dbc215c3445db96a98aa3378e0118"
    },
    {
      "cell_type": "code",
      "source": "translated_text = \"احتمالات و آمار: علم عدم قطعیت\"\ntranslated_text",
      "metadata": {
        "source_hash": null,
        "execution_start": 1723533323675,
        "execution_millis": 524,
        "deepnote_to_be_reexecuted": false,
        "cell_id": "5a133a23622544b9af94469627296449",
        "deepnote_cell_type": "code"
      },
      "outputs": [],
      "outputs_reference": null,
      "execution_count": null,
      "block_group": "1a18eaa2b9e54e198a5577e9d3bbc432",
      "content_dependencies": null
    },
    {
      "cell_type": "markdown",
      "source": "احتمالات و آمار: علم عدم قطعیت",
      "metadata": {
        "cell_id": "a2ba62c0caa447c59f9fd47e146cd2b7",
        "deepnote_cell_type": "text-cell-p"
      },
      "block_group": "c16e1084832e414f933c0aac06696c8d"
    },
    {
      "cell_type": "markdown",
      "source": "> کجا مقالات و دست نوشته ها در مورد آمار و احتمال و اهمیتشون و برای شروع به کار از کجا شروع کن م \nفعلا حوصله و وقت خوندن کتاب ندارم \nولی میتونم از چند صفحه مقاله و اینجور چیزا که چکیده ان شروع کن م",
      "metadata": {
        "color": "purple",
        "cell_id": "b5627c463b844b58aa938a664fff2992",
        "deepnote_cell_type": "text-cell-callout"
      },
      "block_group": "ec49ce953b2044d3affd23675f0f52cb"
    },
    {
      "cell_type": "markdown",
      "source": "برای شروع به کار با آمار و احتمال و مطالعه مقالات و دست نوشته‌های مرتبط، می‌توانید از منابع زیر استفاده کنید:\n\n1. **Google Scholar**: این سایت یک موتور جستجوی علمی است که می‌توانید مقالات علمی و پژوهشی در زمینه آمار و احتمال را پیدا کنید.\n2. **arXiv**: یک مخزن پیش‌چاپ است که مقالات علمی در زمینه‌های مختلف از جمله آمار و احتمال را ارائه می‌دهد.\n3. **ResearchGate**: یک شبکه اجتماعی برای پژوهشگران است که می‌توانید مقالات و دست نوشته‌های مرتبط را پیدا کنید و با نویسندگان آن‌ها در ارتباط باشید.\n4. **PubMed**: اگر به دنبال مقالات علمی در زمینه‌های پزشکی و زیست‌شناسی هستید که از آمار و احتمال استفاده می‌کنند، این سایت می‌تواند مفید باشد.\n5. **JSTOR**: یک مخزن دیجیتال از مقالات علمی و پژوهشی است که می‌توانید به مقالات مرتبط با آمار و احتمال دسترسی پیدا کنید.\n\nهمچنین می‌توانید از وب‌سایت‌های آموزشی مانند Coursera، edX و Khan Academy برای دوره‌های آموزشی کوتاه و مقالات آموزشی استفاده کنید. این دوره‌ها معمولاً شامل مقالات و دست نوشته‌های کوتاه و چکیده‌ای هستند که می‌توانند برای شروع مفید باشند.",
      "metadata": {
        "cell_id": "7300b31b3a4e4c06b10fd3d6c8c91fce",
        "deepnote_cell_type": "text-cell-p"
      },
      "block_group": "9ac4e82df5bd44988e6c9b3ca99cc315"
    },
    {
      "cell_type": "markdown",
      "source": "<a style='text-decoration:none;line-height:16px;display:flex;color:#5B5B62;padding:10px;justify-content:end;' href='https://deepnote.com?utm_source=created-in-deepnote-cell&projectId=18d553a4-31da-47a6-90e6-b2ebf6106d37' target=\"_blank\">\n<img alt='Created in deepnote.com' style='display:inline;max-height:16px;margin:0px;margin-right:7.5px;' src='data:image/svg+xml;base64,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' > </img>\nCreated in <span style='font-weight:600;margin-left:4px;'>Deepnote</span></a>",
      "metadata": {
        "created_in_deepnote_cell": true,
        "deepnote_cell_type": "markdown"
      }
    }
  ],
  "nbformat": 4,
  "nbformat_minor": 0,
  "metadata": {
    "deepnote_persisted_session": {
      "createdAt": "2024-08-13T07:25:24.927Z"
    },
    "deepnote_notebook_id": "0a054aabeb0846aab770f6e88fb591fc",
    "deepnote_execution_queue": []
  }
}