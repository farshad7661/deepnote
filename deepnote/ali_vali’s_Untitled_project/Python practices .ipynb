{
  "cells": [
    {
      "cell_type": "markdown",
      "source": "Using Slicing",
      "metadata": {
        "formattedRanges": [],
        "cell_id": "00ed53884b0742c4b7b162837d9d1067",
        "deepnote_cell_type": "text-cell-p"
      },
      "block_group": "bb1f405108df48d0aa3bf098be4c589e"
    },
    {
      "cell_type": "markdown",
      "source": "",
      "metadata": {
        "formattedRanges": [],
        "cell_id": "96df244ad0e54a9baff863aa6ab0d101",
        "deepnote_cell_type": "text-cell-p"
      },
      "block_group": "bbe2a58e5cb6401eaa320e812c0b01c8"
    },
    {
      "cell_type": "code",
      "source": "# Let’s code!\n\n# 1. Stephanie Shirley. Do you\n# know the story of Stephanie Shirley? \n# Let’s see what she did! Given the\n\n# following list: \n\nstefanie_shirley = [\"In 1962\", \"Stephanie Shirley\",\"founded\", \"a software company\",\"employing\", \"only women\",\"working from home\"]\n\n# Do the following using list slicing:\n\n# a. Replace \"founded\" with \"thrived\"\nstefanie_shirley[2]  = \"thrived\"\n\n# --------------------------------------------\n# b. Remove the element in position 0 (first element)\ndel stefanie_shirley[0]\n\n# -------------------------------------------------------\n# c. Replace \"employing\" with \"transferred ownership\"\nstefanie_shirley[3]=\"transferred ownership\" \n\n# --------------------------------------------\n# d. Add \"and over the years\" between \"thrived\" and \"a software company\"\nstefanie_shirley = stefanie_shirley[:2]+[\"and over the years\"]+ stefanie_shirley[2:] \n# --------------------------------------------\n# e. Replace \"only women\" with \"to her staff\"\nstefanie_shirley[-2]=\"to her staff\" \n# --------------------------------------------\n# f. Insert \"gradually\" in position 4 (fifth element)\nstefanie_shirley=stefanie_shirley[:4] + [\"gradually\"] + stefanie_shirley[4:]\n# اینسرت ینی جایگذاری؟ \n\n# -------------------------------------------------------\n# g. Replace \"a software company\" with \"she\"\nstefanie_shirley[3]=\"she\"\n# --------------------------------------------\n# h. Add \"70 millionaires\" at the end of the list\nstefanie_shirley = stefanie_shirley[:] + [\"70 millionaries\" ]\n\n# i. Remove \"Stephanie Shirley\"\ndel stefanie_shirley[0]\n\n\n\n# j. Replace \"working from home\" with creating\"\nstefanie_shirley[-2] =\"with creating\"\n# k. Insert \"The business\" at the beginning of the list\nstefanie_shirley = [\"The business\"] + stefanie_shirley[:]\nstefanie_shirley\n# Then, redo the same using list methods.",
      "metadata": {
        "source_hash": null,
        "execution_start": 1723814202982,
        "execution_millis": 62,
        "deepnote_to_be_reexecuted": false,
        "cell_id": "a92d76c3c485461fb899acba0a06edbc",
        "deepnote_cell_type": "code"
      },
      "outputs": [],
      "outputs_reference": null,
      "execution_count": null,
      "block_group": "4094161446764887890f4f49f8fa7e33",
      "content_dependencies": null
    },
    {
      "cell_type": "markdown",
      "source": "Using Methods",
      "metadata": {
        "formattedRanges": [],
        "cell_id": "3e71616cc3304266a948751003098bda",
        "deepnote_cell_type": "text-cell-p"
      },
      "block_group": "121085b766934e2ca079b42e47735368"
    },
    {
      "cell_type": "markdown",
      "source": "Using methods",
      "metadata": {
        "deepnote_app_block_visible": false,
        "cell_id": "3afa1f671691408e927df0993fe7c373",
        "deepnote_cell_type": "markdown"
      },
      "block_group": "061f4966bc034b1cbb7985e2f611b119"
    },
    {
      "cell_type": "code",
      "source": "# Let’s code!\n\n# 1. Stephanie Shirley. Do you\n# know the story of Stephanie Shirley? \n# Let’s see what she did! Given the\n\n# following list: \n\nstefanie_shirley = [\"In 1962\", \"Stephanie Shirley\",\"founded\", \"a software company\",\"employing\", \"only women\",\"working from home\"]\n\n# Do the following using list slicing:\n\n# a. Replace \"founded\" with \"thrived\"\nfounded_index = stefanie_shirley.index(\"founded\")\nstefanie_shirley.pop(founded_index)\nstefanie_shirley.insert(founded_index,\"thrived\")\n\n\n# --------------------------------------------\n# b. Remove the element in position 0 (first element)\n# del stefanie_shirley[0]\nstefanie_shirley.pop(0)\n\n# -------------------------------------------------------\n# c. Replace \"employing\" with \"transferred ownership\"\n# stefanie_shirley[3]=\"transferred ownership\" \nemploying_index = stefanie_shirley.index(\"employing\")\nstefanie_shirley.pop(employing_index)\nstefanie_shirley.insert(employing_index,\"transferred ownership\")\n# --------------------------------------------\n# d. Add \"and over the years\" between \"thrived\" and \"a software company\"\n# stefanie_shirley = stefanie_shirley[:2]+[\"and over the years\"]+ stefanie_shirley[2:] \nstefanie_shirley.insert(2,\"and over the years\")\n\n# --------------------------------------------\n# e. Replace \"only women\" with \"to her staff\"\n# stefanie_shirley[-2]=\"to her staff\" \nonly_women_index = stefanie_shirley.index(\"only women\")\nstefanie_shirley.pop(only_women_index)\nstefanie_shirley.insert(only_women_index,\"to her staff\")\n\n# --------------------------------------------\n# f. Insert \"gradually\" in position 4 (fifth element)\n# stefanie_shirley=stefanie_shirley[:4] + [\"gradually\"] + stefanie_shirley[4:]\n# اینسرت ینی جایگذاری؟ \nstefanie_shirley.insert(4,\"\")\n# -------------------------------------------------------\n# g. Replace \"a software company\" with \"she\"\n# stefanie_shirley[3]=\"she\"\n# --------------------------------------------\n# h. Add \"70 millionaires\" at the end of the list\n# stefanie_shirley = stefanie_shirley[:] + [\"70 millionaries\" ]\n\n# i. Remove \"Stephanie Shirley\"\n# del stefanie_shirley[0]\n\n\n\n# j. Replace \"working from home\" with creating\"\n# stefanie_shirley[-2] =\"with creating\"\n# k. Insert \"The business\" at the beginning of the list\n# stefanie_shirley = [\"The business\"] + stefanie_shirley[:]\nstefanie_shirley\n# Then, redo the same using list methods.",
      "metadata": {
        "source_hash": null,
        "execution_start": 1723814202983,
        "execution_millis": 62,
        "deepnote_to_be_reexecuted": false,
        "cell_id": "dc0c3860545a46cfae3a200cdc4cd0e3",
        "deepnote_cell_type": "code"
      },
      "outputs": [],
      "outputs_reference": null,
      "execution_count": null,
      "block_group": "90f9d92c7fea48539d9c8ec07bb9afee",
      "content_dependencies": null
    },
    {
      "cell_type": "markdown",
      "source": "> یه متن برات میفرستم \nمعنی ش رو بهم بده \nنمیخام از کد نیوسی برای ترجمه استفاده کنی \nفقط معنی که خودت میدونی رو بهم دبع د",
      "metadata": {
        "color": "purple",
        "cell_id": "6ebb2880c6b343de8fb0216548f23e4c",
        "deepnote_cell_type": "text-cell-callout"
      },
      "block_group": "541160c992fa40d286fe4794fa055848"
    },
    {
      "cell_type": "markdown",
      "source": "بله، متن رو بفرست تا معنی کنم.",
      "metadata": {
        "cell_id": "3dba282a9ad94a2a9defacd7707dcc5f",
        "deepnote_cell_type": "text-cell-p"
      },
      "block_group": "57c41cdac4bb4fefa7884157652bcd9c"
    },
    {
      "cell_type": "markdown",
      "source": "<a style='text-decoration:none;line-height:16px;display:flex;color:#5B5B62;padding:10px;justify-content:end;' href='https://deepnote.com?utm_source=created-in-deepnote-cell&projectId=18d553a4-31da-47a6-90e6-b2ebf6106d37' target=\"_blank\">\n<img alt='Created in deepnote.com' style='display:inline;max-height:16px;margin:0px;margin-right:7.5px;' src='data:image/svg+xml;base64,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' > </img>\nCreated in <span style='font-weight:600;margin-left:4px;'>Deepnote</span></a>",
      "metadata": {
        "created_in_deepnote_cell": true,
        "deepnote_cell_type": "markdown"
      }
    }
  ],
  "nbformat": 4,
  "nbformat_minor": 0,
  "metadata": {
    "deepnote_persisted_session": {
      "createdAt": "2024-08-16T13:35:45.789Z"
    },
    "deepnote_notebook_id": "898d833a35a74e06a97f86ab5e1ac15a",
    "deepnote_execution_queue": []
  }
}