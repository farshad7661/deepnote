{
  "cells": [
    {
      "cell_type": "markdown",
      "source": "# دانلود دیتای ذخیره شده آماده ",
      "metadata": {
        "formattedRanges": [],
        "cell_id": "8e3a14105f7d4955a70fca207a076067",
        "deepnote_cell_type": "text-cell-h1"
      },
      "block_group": "1bb4ed719acb473f8f814570e2b7c354"
    },
    {
      "cell_type": "markdown",
      "source": "دیتای Low برای مینیمم  ",
      "metadata": {
        "formattedRanges": [],
        "cell_id": "4525a203142c4ed99595a6e74fe54c01",
        "deepnote_cell_type": "text-cell-p"
      },
      "block_group": "f42b7fae838748de87090a4dd15a83be"
    },
    {
      "cell_type": "markdown",
      "source": "دیتای High برای ماکسیمم ",
      "metadata": {
        "formattedRanges": [],
        "cell_id": "f322f387c58d44a3892df938c085ab87",
        "deepnote_cell_type": "text-cell-p"
      },
      "block_group": "15e6e662ba6e4efbab0d30e145ad79ce"
    },
    {
      "cell_type": "markdown",
      "source": "",
      "metadata": {
        "formattedRanges": [],
        "cell_id": "0d399e79c2214474a919317edca9d3d3",
        "deepnote_cell_type": "text-cell-p"
      },
      "block_group": "2db8be135f484ee880e2b2c01aeda048"
    },
    {
      "cell_type": "code",
      "source": "# # text\n# شروع از ساده ترین جا:\n# ایمپورت کردن کتابخانه های مورد نیاز \nimport plotly.graph_objects as go\nimport pandas as pd\nimport numpy as np\nimport matplotlib.pyplot as plt\nimport yfinance as yf\n\n# دانلود داده‌های مالی برای سهام خاص (مثلاً AAPL)\ndata = yf.download('AAPL', start='2020-01-01', end='2023-01-01')\n\n# ذخیره دیتای کلوز در متغیری به نام دیتا\nclose_data = data['Close']\n\n# نمایش داده‌ها\n# close_data.head()\n# دانلود ی محدوده دیتا#\n# برش لیست کلوزها\n# ذخیره کردن مقداری دیتای محدود در متیری بنام    \n# فرض میکنیم نمودار مک دی درست تعریف شده | بعدا نیازمند اعتبار سنجی و بهینه سازی\n\n# تمام نقاط مکدی رو به بالا\n# ذخیره اندیس متناظر روی دیتای اصلی \n# #\n#  تخمین تا حد خیلی زیاد نقطه \n# مینیمم\n\n# چاره ی آمار میگیریم برا میانگین اون \n# چطور امار بگیریم\n# نقطه ای ک توی تمام قبلی هاهست\n#  مکدی تعریف شده کمترین \n# نقطه مینیمم چاره این نیست ک توی رنجی ک\n# رو تعریف کنیم \n# بدست آوردن نقاط مینیمم قبل مک دی\n\n\n# تمام نقاط مک دی متقاطع رو به بالا برای مینیمم ها \n# تمام نقاط مک دی متقاطع رو به پایین برای ماکسیمم ها \n\n\n# نقاط متناظرشون روی نمودار اصلی \n# مال مکدی ایه\n# تعریف یک تابع \n# بررسی اینکه بین هر دو نقطه متناظر \n# آیا وجود دارد نقطه ای که خط واصل رو قطع کند , \n# اگر وجود دارد  \n# هیچ کاری نکن \n# در غیر این صورت : \n# وصلشون کن و نقطه تقاطع رو بدست بیار\n# بازه \n# زمانی بین دو نقطه رو هم محاسبه کن و تو یه متغیر\n#  یعنی همون اختلاف اندیس ها \n# duration ذخیره کن \n# و درصد سود رو محاسبه کن یا ضرر رو \n\n# پیدا کردن نقطه \n# مینیمم برتر : پیشنهاد : اولین نقطه که کمتر از \n# دو نقطه قبل و بعد خودش است قبل از نقطه تقاطع \n\n\n\n\n# معامله بر اساس فاصله زمانی \n# بین دو نقطه مینیمم یا ماکسیمم بعد از نقطه دوم \n\n# دریافت چند کلیدواژه یا ایده از هوش مصنوعی برای تکمیل \n# الگوریتم\n\n# بدست آوردن نقاط ی که بین اونها نقاط قاطع خط واصل وجود داره : جطوری ؟ ذخیره و دسته بندی اونها توی متغیر های جداگونه \n# بهترین راه فیلتر چی هست ؟\n \n# تعریف تابع برای تشخیص نقاط  مک دی | نقاط قاطع خط واصل | قراردادن تابع توی یک حلقه برای تست تمامی نقاط متناظر \n# و ذخیره خروجی در متغیر نقاط مدنظر \n\n# حد ضرر دینامیک از استراتژی های پویای این روش \n# برای تبدیل ضرر به سود \n\n# استراتژی لوریج برای چنین روشی \n\n# یک دیدگاه :‌ نامگذاری بجای متغیرها\n\n# تابع بندی\n\n# بهترین روش برای تشخیص نقاط مینیمم و ماکسیمم چی هست بغیر از نمودار مک دی ؟\n\n\n# تشخیص با تقریب بالای نقاط مینیمم قبل از نقطه مک دی : تقریبی چنتا کندل فاصله داره \n\n# اول نقاط مینیمم\n\n# بعد نقاط ماکسیمم",
      "metadata": {
        "source_hash": "291b8ca1",
        "execution_start": 1724358033393,
        "execution_millis": 601,
        "deepnote_to_be_reexecuted": false,
        "cell_id": "d68feef5a7c0403b8b743758bc23a6e7",
        "deepnote_cell_type": "code"
      },
      "outputs": [],
      "outputs_reference": null,
      "execution_count": 1,
      "block_group": "fb031672f4d8473d9db7de2feab3e46c",
      "content_dependencies": null
    },
    {
      "cell_type": "code",
      "source": "!pip install yfinance",
      "metadata": {
        "source_hash": "96dda95c",
        "execution_start": 1724358033999,
        "execution_millis": 2854,
        "deepnote_to_be_reexecuted": false,
        "cell_id": "ef53875d0b3d4f338f285a346385eef7",
        "deepnote_cell_type": "code"
      },
      "outputs": [],
      "outputs_reference": null,
      "execution_count": 2,
      "block_group": "5caf3274caca4cfd8817c185a6085378",
      "content_dependencies": null
    },
    {
      "cell_type": "markdown",
      "source": "# ترسیم نمودار دیتا ",
      "metadata": {
        "formattedRanges": [],
        "cell_id": "62dacc0fb36342559976de59a83324c9",
        "deepnote_cell_type": "text-cell-h1"
      },
      "block_group": "d68946bec25f48bab383739c17d3349d"
    },
    {
      "cell_type": "markdown",
      "source": "> دیتای کلوز رو پلات کن ",
      "metadata": {
        "color": "purple",
        "cell_id": "270b87db06544231b506d049b88d443d",
        "deepnote_cell_type": "text-cell-callout"
      },
      "block_group": "787543707b594dcb8bd3fe4cb6d37da6"
    },
    {
      "cell_type": "code",
      "source": "import matplotlib.pyplot as plt\n\n# Plotting the close data\nplt.figure(figsize=(14, 7))\nplt.plot(close_data, label='Close Price')\nplt.title('Close Price over Time')\nplt.xlabel('Date')\nplt.ylabel('Close Price')\nplt.legend()\nplt.grid(True)\nplt.show()",
      "metadata": {
        "source_hash": "ce439cca",
        "execution_start": 1724358036857,
        "execution_millis": 391,
        "deepnote_to_be_reexecuted": false,
        "cell_id": "11e40423afdb4def9d156a78995202d3",
        "deepnote_cell_type": "code"
      },
      "outputs": [],
      "outputs_reference": null,
      "execution_count": 3,
      "block_group": "c66c2bf368fc40b89c9a0210dd9cac73",
      "content_dependencies": null
    },
    {
      "cell_type": "markdown",
      "source": "",
      "metadata": {
        "formattedRanges": [],
        "cell_id": "528cb417c22b41edb1e61a193c4972d9",
        "deepnote_cell_type": "text-cell-p"
      },
      "block_group": "1206bb0fd9c741fb97ed109394dadac5"
    },
    {
      "cell_type": "markdown",
      "source": "# Define MACD",
      "metadata": {
        "formattedRanges": [],
        "cell_id": "42a748b6a7b54d0d835330dbd93edbbf",
        "deepnote_cell_type": "text-cell-h1"
      },
      "block_group": "509389b34dfe4463800f5bc92f4f4822"
    },
    {
      "cell_type": "markdown",
      "source": "تعریف مک دی طبق کد تریدینگ ویو",
      "metadata": {
        "formattedRanges": [],
        "cell_id": "52c8bf07a4814a26aced37a8bdc50de8",
        "deepnote_cell_type": "text-cell-p"
      },
      "block_group": "e462e03c8c3642088a0995b5548dce48"
    },
    {
      "cell_type": "markdown",
      "source": "//@version=5\r\nindicator(title=\"Moving Average Convergence Divergence\", shorttitle=\"MACD\", timeframe=\"\", timeframe_gaps=true)\r\n// Getting inputs\r\nfast_length = input(title = \"Fast Length\", defval = 12)\r\nslow_length = input(title = \"Slow Length\", defval = 26)\r\nsrc = input(title = \"Source\", defval = close)\r\nsignal_length = input.int(title = \"Signal Smoothing\",  minval = 1, maxval = 50, defval = 9, display = display.data_window)\r\nsma_source = input.string(title = \"Oscillator MA Type\",  defval = \"EMA\", options = [\"SMA\", \"EMA\"], display = display.data_window)\r\nsma_signal = input.string(title = \"Signal Line MA Type\", defval = \"EMA\", options = [\"SMA\", \"EMA\"], display = display.data_window)\r\n// Calculating\r\nfast_ma = sma_source == \"SMA\" ? ta.sma(src, fast_length) : ta.ema(src, fast_length)\r\nslow_ma = sma_source == \"SMA\" ? ta.sma(src, slow_length) : ta.ema(src, slow_length)\r\nmacd = fast_ma - slow_ma\r\nsignal = sma_signal == \"SMA\" ? ta.sma(macd, signal_length) : ta.ema(macd, signal_length)\r\nhist = macd - signal",
      "metadata": {
        "formattedRanges": [],
        "cell_id": "780530ec15f94bd7ae2323d0f4c9dba2",
        "deepnote_cell_type": "text-cell-p"
      },
      "block_group": "08542876e53a4b958bcd35e0fb2c558b"
    },
    {
      "cell_type": "markdown",
      "source": "alertcondition(hist[1] >= 0 and hist < 0, title = 'Rising to falling', message = 'The MACD histogram switched from a rising to falling state')\r\nalertcondition(hist[1] <= 0 and hist > 0, title = 'Falling to rising', message = 'The MACD histogram switched from a falling to rising state')",
      "metadata": {
        "formattedRanges": [],
        "cell_id": "2c17804321634f269a9bcd1107cbb609",
        "deepnote_cell_type": "text-cell-p"
      },
      "block_group": "b9f75aa9f4974fbf843daa4f9a0b1f42"
    },
    {
      "cell_type": "markdown",
      "source": "hline(0, \"Zero Line\", color = color.new(#787B86, 50))\r\nplot(hist, title = \"Histogram\", style = plot.style_columns, color = (hist >= 0 ? (hist[1] < hist ? #26A69A : #B2DFDB) : (hist[1] < hist ? #FFCDD2 : #FF5252)))\r\nplot(macd,   title = \"MACD\",   color = #2962FF)\r\nplot(signal, title = \"Signal\", color = #FF6D00)",
      "metadata": {
        "formattedRanges": [],
        "cell_id": "22f42651ac8b47f2a2a1abfd95d05d69",
        "deepnote_cell_type": "text-cell-p"
      },
      "block_group": "749ed7020bf24ae9b340f771d76faaee"
    },
    {
      "cell_type": "code",
      "source": "\n\ndef calculate_macd(data, short_window=12, long_window=26, signal_window=9, ma_type='EMA'):\n    # انتخاب نوع میانگین متحرک\n    if ma_type == 'SMA':\n        data['MA_short'] = data['Close'].rolling(window=short_window).mean()\n        data['MA_long'] = data['Close'].rolling(window=long_window).mean()\n    else:\n        data['MA_short'] = data['Close'].ewm(span=short_window, adjust=False).mean()\n        data['MA_long'] = data['Close'].ewm(span=long_window, adjust=False).mean()\n    \n    # محاسبه MACD\n    data['MACD'] = data['MA_short'] - data['MA_long']\n    \n    # محاسبه خط سیگنال\n    if ma_type == 'SMA':\n        data['Signal_Line'] = data['MACD'].rolling(window=signal_window).mean()\n    else:\n        data['Signal_Line'] = data['MACD'].ewm(span=signal_window, adjust=False).mean()\n    \n    return data\n\n# دانلود داده‌های مالی برای سهام خاص (مثلاً AAPL)\ndata = yf.download('AAPL', start='2020-01-01', end='2023-01-01')\n\n# ذخیره دیتای کلوز در متغیری به نام کلوز دیتا\nclose_data = data['Close']\n\n# محاسبه MACD برای داده‌ها\ndata = calculate_macd(data, short_window=12, long_window=26, signal_window=9, ma_type='EMA')\n\n# نمایش داده‌ها\ndata[['Close', 'MACD', 'Signal_Line']].head()\n\n",
      "metadata": {
        "source_hash": "1d41285f",
        "execution_start": 1724358037176,
        "execution_millis": 353,
        "deepnote_to_be_reexecuted": false,
        "cell_id": "11ccc6b35719421f8370f23fca992c24",
        "deepnote_cell_type": "code"
      },
      "outputs": [],
      "outputs_reference": null,
      "execution_count": 4,
      "block_group": "853b00ae568e4d3b90fc8ac7d155403b",
      "content_dependencies": null
    },
    {
      "cell_type": "markdown",
      "source": "plot test",
      "metadata": {
        "formattedRanges": [],
        "cell_id": "0f088e837fa9400e9330b7ace4c46b85",
        "deepnote_cell_type": "text-cell-p"
      },
      "block_group": "6b4eeedc91a94f3b8302bccf4450323e"
    },
    {
      "cell_type": "code",
      "source": "# Plot MACD and Signal Line with Zero Line\nplt.figure(figsize=(14,7))\nplt.plot(data.index, data['MACD'], label='MACD', color='g')\nplt.plot(data.index, data['Signal_Line'], label='Signal Line', color='r')\nplt.axhline(y=0, color='b', linestyle='--', linewidth=1, label='Zero Line')  # Add a horizontal line at y=0\nplt.title('MACD and Signal Line')\nplt.xlabel('Date')\nplt.ylabel('Value')\nplt.legend(loc='best')\nplt.show()",
      "metadata": {
        "source_hash": "d271a138",
        "execution_start": 1724358037232,
        "execution_millis": 311,
        "deepnote_to_be_reexecuted": false,
        "cell_id": "80a5440e13574e01ba33e8a0ad3659f5",
        "deepnote_cell_type": "code"
      },
      "outputs": [],
      "outputs_reference": null,
      "execution_count": 5,
      "block_group": "c40085fbaf594460bf31ec9f756ecb8d",
      "content_dependencies": null
    },
    {
      "cell_type": "markdown",
      "source": "# find macd up intersect",
      "metadata": {
        "formattedRanges": [],
        "cell_id": "af1b8f75275d46ceadcea99ef341cc95",
        "deepnote_cell_type": "text-cell-h1"
      },
      "block_group": "77e7ece2886f45f5824605c2c456db91"
    },
    {
      "cell_type": "markdown",
      "source": "> مشخص کن نقاط تقاطع مکدی که نمودار مکدی , نمودار سیگنال رو رو به بالا قطع میکنه ",
      "metadata": {
        "color": "purple",
        "cell_id": "9363c7d04998414f8f9e10817559b333",
        "deepnote_cell_type": "text-cell-callout"
      },
      "block_group": "5629e8c9dc0741b5a1c61ba3374b5046"
    },
    {
      "cell_type": "code",
      "source": "# Find MACD crossovers where MACD line crosses Signal line upwards\ndef find_macd_crossovers(data):\n    data['MACD_Crossover'] = np.where((data['MACD'] > data['Signal_Line']) & (data['MACD'].shift(1) <= data['Signal_Line'].shift(1)), 'Up', 'No Crossover')\n    return data\n\n# Apply the function to the data\ndata = find_macd_crossovers(data)\n\n# Filter the data to get only the upward crossovers\nbuy_signals = data[data['MACD_Crossover'] == 'Up']\n\nbuy_signals[['Close', 'MACD', 'Signal_Line', 'MACD_Crossover']]",
      "metadata": {
        "source_hash": "5b765492",
        "execution_start": 1724358037545,
        "execution_millis": 511,
        "deepnote_to_be_reexecuted": false,
        "cell_id": "ef5ad811b3bf4e509d74ed4788ac9db8",
        "deepnote_cell_type": "code"
      },
      "outputs": [],
      "outputs_reference": null,
      "execution_count": 6,
      "block_group": "a882672ca4844d59aa4f54d87373080b",
      "content_dependencies": null
    },
    {
      "cell_type": "markdown",
      "source": "# مشخص کردن نقاط تلاقی رو به بالارو ",
      "metadata": {
        "formattedRanges": [],
        "cell_id": "a7b81bbe01ea4d27b7b6e404148d507d",
        "deepnote_cell_type": "text-cell-h1"
      },
      "block_group": "09f5c3338a734fcf84042882cad7ac38"
    },
    {
      "cell_type": "markdown",
      "source": "تعریف فانکشن ",
      "metadata": {
        "formattedRanges": [],
        "cell_id": "41e8bb86e8a949969858dbf750d36f4f",
        "deepnote_cell_type": "text-cell-p"
      },
      "block_group": "2c2e5b9e825445989c91e724dd6086ad"
    },
    {
      "cell_type": "markdown",
      "source": "",
      "metadata": {
        "formattedRanges": [],
        "cell_id": "f3e8aa5f84d14e9996e9271cb2a30a87",
        "deepnote_cell_type": "text-cell-p"
      },
      "block_group": "4071554766d74ecca9ccc411a0a169b9"
    },
    {
      "cell_type": "code",
      "source": "import plotly.graph_objects as go\n\ndef plot_macd_with_signals_interactive(data, buy_signals):\n    # Create subplots\n    fig = make_subplots(rows=2, cols=1, shared_xaxes=True, vertical_spacing=0.1,\n                        subplot_titles=('Close Price', 'MACD and Signal Line'), row_width=[0.2, 0.7])\n    \n    # Plot Close Price\n    fig.add_trace(go.Scatter(x=data.index, y=data['Close'], mode='lines', name='Close Price'), row=1, col=1)\n    fig.add_trace(go.Scatter(x=buy_signals.index, y=buy_signals['Close'], mode='markers', marker_symbol='triangle-up', marker_color='green', marker_size=10, name='Upward Crossover Close Price'), row=1, col=1)\n    \n    # Plot MACD and Signal Line\n    fig.add_trace(go.Scatter(x=data.index, y=data['MACD'], mode='lines', name='MACD', line=dict(color='green')), row=2, col=1)\n    fig.add_trace(go.Scatter(x=data.index, y=data['Signal_Line'], mode='lines', name='Signal Line', line=dict(color='red')), row=2, col=1)\n    fig.add_trace(go.Scatter(x=buy_signals.index, y=buy_signals['MACD'], mode='markers', marker_symbol='triangle-up', marker_color='blue', marker_size=10, name='Upward Crossover MACD'), row=2, col=1)\n    \n    # Add Zero Line\n    fig.add_hline(y=0, line=dict(color='blue', dash='dash'), row=2, col=1)\n\n    # Update layout\n    fig.update_layout(title='Close Price and MACD with Upward Crossovers', showlegend=True, xaxis_rangeslider_visible=False)\n\n    fig.show()\n\n# Call the interactive plotting function\nplot_macd_with_signals_interactive(data, buy_signals)",
      "metadata": {
        "source_hash": "64d8e8dc",
        "execution_start": 1724358037562,
        "execution_millis": 495,
        "deepnote_to_be_reexecuted": false,
        "cell_id": "d5edede3e0624f6697d981f0acb53c32",
        "deepnote_cell_type": "code"
      },
      "outputs": [],
      "outputs_reference": null,
      "execution_count": 7,
      "block_group": "deb831b6aaa148d08a66361637786360",
      "content_dependencies": null
    },
    {
      "cell_type": "markdown",
      "source": "> نمودار دیتا ی کلوز رو جداگانه رسم کن و قابل زومش کن , یه قابلیت جالب زوم , که همه ی امکانات رو داشته باشه ",
      "metadata": {
        "color": "purple",
        "cell_id": "7268584da99e41098ae77ee914af3b5b",
        "deepnote_cell_type": "text-cell-callout"
      },
      "block_group": "bcccab04bc0d48eebf8ba04c797ba784"
    },
    {
      "cell_type": "code",
      "source": "import plotly.graph_objects as go\n\n# Create a Plotly figure for the Close Price data\nfig = go.Figure()\n\n# Add the Close Price line\nfig.add_trace(go.Scatter(x=close_data.index, y=close_data, mode='lines', name='Close Price'))\n\n# Update the layout to include titles and axis labels\nfig.update_layout(\n    title='Close Price over Time',\n    xaxis_title='Date',\n    yaxis_title='Close Price',\n    showlegend=True\n)\n\n\n\n\n# Show the figure\nfig.show()",
      "metadata": {
        "source_hash": "f6541a3c",
        "execution_start": 1724340155729,
        "execution_millis": 164,
        "deepnote_to_be_reexecuted": true,
        "cell_id": "70441cb6ad094a09b5f51712393bcef8",
        "deepnote_cell_type": "code"
      },
      "outputs": [],
      "outputs_reference": null,
      "execution_count": null,
      "block_group": "2c42179eb8a94032afb707bf5fdfe505",
      "content_dependencies": null
    },
    {
      "cell_type": "markdown",
      "source": "خط واصل بین دو نقطه رو رسم کنه ",
      "metadata": {
        "color": "purple",
        "formattedRanges": [],
        "cell_id": "f071a19dd902428db5f5cfc5981f3570",
        "deepnote_cell_type": "text-cell-p"
      },
      "block_group": "1006d3cbe05b413fb130a45e6252bac9"
    },
    {
      "cell_type": "markdown",
      "source": "> یه فانکشن میخام بنویسم که تشخیص بده , بین دو نقطه مینیمم از نمودار دیتا که انتخاب میکنیم », آیا وجود دارد , نقطه ای که قاطع  خط واصل آنها باشد \n چنتا دیتای رندوم نمودار خطی  ایجاد میکنیم و بصورت رندوم هر دو نقطه رو بررسی میکنیم , و چک میکنیم که اگر بین دو نقطه , نقطه قاطعی وجود نداشت , \n\nخط واصل بین دو نقطه رو رسم کنه \n\n\n\n\n",
      "metadata": {
        "color": "purple",
        "formattedRanges": [],
        "cell_id": "1018578ec65d485eb11f5d40a876654e",
        "deepnote_cell_type": "text-cell-callout"
      },
      "block_group": "1d3481dd486f4ef69569ddb3801381e7"
    },
    {
      "cell_type": "markdown",
      "source": "> یه فانکشن میخام بنویسم که تشخیص بده , بین دو نقطه مینیمم از نمودار دیتا که انتخاب میکنیم », آیا وجود دارد , نقطه ای که قاطع  خط واصل آنها باشد \n چنتا دیتای رندوم نمودار خطی  ایجاد میکنیم و بصورت رندوم هر دو نقطه رو بررسی میکنیم , و چک میکنیم که اگر بین دو نقطه , نقطه قاطعی وجود نداشت , \n\nخط واصل بین دو نقطه رو رسم کنه \n\n\n\n\n",
      "metadata": {
        "color": "purple",
        "cell_id": "905f2047aa81422084fc05a16c27b472",
        "deepnote_cell_type": "text-cell-callout"
      },
      "block_group": "1e3e8c3b19e84ae8a20bf16e74678de2"
    },
    {
      "cell_type": "code",
      "source": "import numpy as np\nimport matplotlib.pyplot as plt\n\n# Generate random linear data\n\nrandom_data = np.random.rand(10)\n\n# Define the function to check for intersection and plot the line\ndef check_and_plot_intersection(data, point1, point2):\n    x = np.arange(len(data))\n    y = data\n    \n    # Calculate the line equation (y = mx + b) between point1 and point2\n    m = (y[point2] - y[point1]) / (x[point2] - x[point1])\n    b = y[point1] - m * x[point1]\n    \n    # Check for intersection points\n    intersection_exists = False\n    for i in range(point1 + 1, point2):\n        y_line = m * x[i] + b\n        if y[i] > y_line:\n            intersection_exists = True\n            break\n    \n    # Plot the data and the line if no intersection exists\n    plt.figure(figsize=(10, 6))\n    plt.plot(x, y, label='Random Data')\n    if not intersection_exists:\n        plt.plot([x[point1], x[point2]], [y[point1], y[point2]], 'r-', label='Line between points')\n    plt.scatter([x[point1], x[point2]], [y[point1], y[point2]], color='red', zorder=5)\n    plt.title('Random Data with Line between Points')\n    plt.xlabel('Index')\n    plt.ylabel('Value')\n    plt.legend()\n    plt.grid(True)\n    plt.show()\n    \n    return intersection_exists\n\n# Example usage\npoint1, point2 = np.sort(np.random.choice(len(random_data), 2, replace=False))\nintersection_exists = check_and_plot_intersection(random_data, point1, point2)\nintersection_exists",
      "metadata": {
        "source_hash": "5decd0cc",
        "execution_start": 1724358012867,
        "execution_millis": 338,
        "deepnote_to_be_reexecuted": true,
        "cell_id": "9f0ecde027ba437996184d94db7eb674",
        "deepnote_cell_type": "code"
      },
      "outputs": [],
      "outputs_reference": null,
      "execution_count": null,
      "block_group": "496ff17d755c4b0391bc93dd77d0bae3",
      "content_dependencies": null
    },
    {
      "cell_type": "markdown",
      "source": "نقطه‌ای که خط واصل بین دو نقطه انتخاب شده را قطع کند، وجود دارد.",
      "metadata": {
        "cell_id": "f41a2d2159b94ddeb3aadbb134eded20",
        "deepnote_cell_type": "text-cell-p"
      },
      "block_group": "540a34cec187447ca7234289ba6beb44"
    },
    {
      "cell_type": "markdown",
      "source": "# فانکشن برای چک کردن دو نقطه رو ایجاد کردیم , بعدا نقاط ماکسیمم و مینمم رو بهش بعنوان ورودی میدیم ",
      "metadata": {
        "formattedRanges": [],
        "cell_id": "d97432d04a3e4b3ab7832b3df084c1ac",
        "deepnote_cell_type": "text-cell-h1"
      },
      "block_group": "436f9528e9984ccf97d45ccd18f0187f"
    },
    {
      "cell_type": "markdown",
      "source": "اگر نقطه مینیمم دومی از نقطه مینیمم اولی مقدارش بیشتر باشه , بررسی بشه که آیا خط واصلی وجود داره یا نه ",
      "metadata": {
        "formattedRanges": [],
        "cell_id": "0bdf2effd9434de690b209d783e69f1d",
        "deepnote_cell_type": "text-cell-p"
      },
      "block_group": "9b893342f5194ff283f01fcb92f4b953"
    },
    {
      "cell_type": "markdown",
      "source": "در غیر این صورت کاری نباید بکنه , ",
      "metadata": {
        "formattedRanges": [],
        "cell_id": "4c65eec952a14d6eaf2cefd522b8ef25",
        "deepnote_cell_type": "text-cell-p"
      },
      "block_group": "42f52f7580a74e06904fa314996ed83e"
    },
    {
      "cell_type": "markdown",
      "source": "برعکس برای نقاط ماکسیمم , در صورتی که نقطه ماکسیمم دومی از نقطه ماکسیمم اولی کمتر باشه , بررسی بشه ک آیا خط واصلی هست یا نه ",
      "metadata": {
        "formattedRanges": [],
        "cell_id": "b9082f45fed946a0ba3a9fea5a190c6a",
        "deepnote_cell_type": "text-cell-p"
      },
      "block_group": "d48ef157b27f43839355983afb3b5ee3"
    },
    {
      "cell_type": "markdown",
      "source": "در مرحله بعدی , اگر نقطه قاطع خط واصل دو نقطه وجود نداشته باشد , محل تلاقی خط واصل با نمودار دیتا , از نقطه دوم به بعد , پیدا بشه , یعنی , اولین نقطه ای از نمودار دیتا که که مقدارش که مقدار خط واصل بیشتر باشه (min ) اون رو پیدا بکنه ",
      "metadata": {
        "formattedRanges": [],
        "cell_id": "2d384c8a18304936ad212c9550f17654",
        "deepnote_cell_type": "text-cell-p"
      },
      "block_group": "99d3c0755c854451a9404636cfc781b3"
    },
    {
      "cell_type": "markdown",
      "source": "یه حلقه ایجاد میشه , تمامی نقاط مینیمم  بدست آمده از مک دی , بصورت دو تایی , مثلا نقطه اول با نقطه دوم , نقطه دوم با نقطه سوم , نقطه سوم با نقطه چهارم و الی آخر ",
      "metadata": {
        "formattedRanges": [],
        "cell_id": "749953128e874dbc8c83bb23233a8aa1",
        "deepnote_cell_type": "text-cell-p"
      },
      "block_group": "9d34eac3b84e4e17b672f69a56e2c428"
    },
    {
      "cell_type": "markdown",
      "source": " بررسی میشن , اگر خط واصلی بینشون نباشه , نقطه تلاقیشون پیدا میشه  و اندیسش ذخیره میشه ع",
      "metadata": {
        "formattedRanges": [],
        "cell_id": "b8e67c5ee2d2454293c20b2ccc741092",
        "deepnote_cell_type": "text-cell-p"
      },
      "block_group": "ee421921daa346a5b705572f77a289f9"
    },
    {
      "cell_type": "markdown",
      "source": "مقدار اندیس نقطه تلاقی , با مقدار اندیس نقطه مینیمم دوم , بررسی میشه , ",
      "metadata": {
        "formattedRanges": [],
        "cell_id": "6a564944918948a393deea75e2745e7f",
        "deepnote_cell_type": "text-cell-p"
      },
      "block_group": "f0013c171060413f89d175dec6979b2a"
    },
    {
      "cell_type": "markdown",
      "source": "",
      "metadata": {
        "formattedRanges": [],
        "cell_id": "14f670e1e2144d7895094c060547110c",
        "deepnote_cell_type": "text-cell-p"
      },
      "block_group": "897242ab357c42cb9df5ef75aa473d97"
    },
    {
      "cell_type": "markdown",
      "source": "اگر نقطه تلاقی قبل از نقطه دیوریشن , باشه , \r\nنقطه تلاقی رو ذخیره کن و این نوع خط لاین رو به عنوان خط لاین معادله تایپ تلاقی تو یه متغیر ذخیره کن",
      "metadata": {
        "formattedRanges": [],
        "cell_id": "e8a44cbfe8aa4f44be2b30f93b67bffd",
        "deepnote_cell_type": "text-cell-p"
      },
      "block_group": "d575a0c1d07f4011a7d3b5943409db18"
    },
    {
      "cell_type": "markdown",
      "source": "بعد از این مرحله میخام اختلاف مقدار دیتای اندیس ها محاسبه بشه \r\nاندیس های نقطه دوم و نقطه تلاقی (اگر از نوع معادله تایپ تلاقی باشن )\r\nو مقدار دیتای اندیس های نقطه دوم و نقطه  دیوریشن (اگر معادله از نوع دیوریشن باشه )",
      "metadata": {
        "formattedRanges": [],
        "cell_id": "cf5519294f2f4955bb65d70c3931bf48",
        "deepnote_cell_type": "text-cell-p"
      },
      "block_group": "7c4ebad2510142fdb4c133e968b3be1b"
    },
    {
      "cell_type": "markdown",
      "source": "یه حلقه که داخلش فانکشن بررسی معامله تایپ تلاقی یا دیوریشن هست \r\nیه فانکشن و حلقه برای رسم انواع معاملات که منجر به سود یا ضرر شدن \r\nآمار گیری \r\nلیست آمار نیاز داریم \r\nمقدار سود معامله \r\nمقدار ضرر معامله \r\nبررسی کمیسیون برا تعداد معاملات \r\nتعداد معاملات \r\nدرصد سود \r\nسرمایه اولیه \r\nریسک معاملات \r\nنرمال سازی دیتا در مرحله اول و خطایی که ایجاد میکنه \r\n",
      "metadata": {
        "formattedRanges": [],
        "cell_id": "292ca32013d740e594fdb24688167e8e",
        "deepnote_cell_type": "text-cell-p"
      },
      "block_group": "7f0d36365d1e4c1b97aabb27e53c1b35"
    },
    {
      "cell_type": "markdown",
      "source": "# بدست آوردن نقطه دیوریشن ",
      "metadata": {
        "formattedRanges": [],
        "cell_id": "ff4da005a39a49d9b44559502076884b",
        "deepnote_cell_type": "text-cell-h1"
      },
      "block_group": "84fa6d3e3f1f406aa9f3e8c5a46d1c4e"
    },
    {
      "cell_type": "markdown",
      "source": "مرتب سازی دیتا و مراحل الگوریتم در سطوح بالاتر ",
      "metadata": {
        "formattedRanges": [],
        "cell_id": "8d54344ce31446479db2bff85506ceaa",
        "deepnote_cell_type": "text-cell-p"
      },
      "block_group": "ff8439b747624bb6ad62e6d729d84845"
    },
    {
      "cell_type": "markdown",
      "source": "> \nبدست آوردن اختلاف زمانی (یا همون اندیس ها ) دو داده انتخابی رندوم از دیتای رندوم ایجاد شده بدون seed\n\nدو برابر کردن اختلاف زمانی نسبت به نقطه اول و پلات کردن اون نقطه با اسکاتر  ",
      "metadata": {
        "color": "purple",
        "formattedRanges": [],
        "cell_id": "71bdf74c62c74198abc992c85200fd1a",
        "deepnote_cell_type": "text-cell-callout"
      },
      "block_group": "c8cd63bfe7394b3eb44d17ee3bd1c700"
    },
    {
      "cell_type": "markdown",
      "source": "** نقاطی وجود دارن که                             هم پوشانی خط واصل و خود دیتا , بگونه که وجود ندارد نقطه تلاقی ای                    خط واصل دو نقطه انتها که هنوز در جریان ان و نقطه تلاقی ای براشون پیدا نشده ",
      "metadata": {
        "color": "purple",
        "formattedRanges": [],
        "cell_id": "0baba0d494d94f32a8b22bfaf7d91000",
        "deepnote_cell_type": "text-cell-p"
      },
      "block_group": "a6f124374a1a4aae92d5b52c781ce909"
    },
    {
      "cell_type": "markdown",
      "source": "نقاطی وجود دارن که خط تلاقی ندارن و دیوریشن شون به پایان نرسیده و در جریان ان ",
      "metadata": {
        "color": "purple",
        "formattedRanges": [],
        "cell_id": "14f5c7fd712142fdb697d2ccc0a6e5a6",
        "deepnote_cell_type": "text-cell-p"
      },
      "block_group": "9900571c183f447992dda3613b1a982b"
    },
    {
      "cell_type": "markdown",
      "source": "",
      "metadata": {
        "color": "purple",
        "formattedRanges": [],
        "cell_id": "f99cb3018e2d487e8e7a78d8cf31f6cf",
        "deepnote_cell_type": "text-cell-p"
      },
      "block_group": "c3aa0db2470548c698a2251dbadc44e7"
    },
    {
      "cell_type": "markdown",
      "source": "حساب نکن                 خارج از محدوده و اندیس            نقطه تلاقی ندارن            دیوریشن بدست اومده          دوریشن دومی    یه اسم برا نقطه دیوریشن ",
      "metadata": {
        "color": "purple",
        "formattedRanges": [],
        "cell_id": "3ebc73455e4b48b9bd4cb6fa88e751a8",
        "deepnote_cell_type": "text-cell-p"
      },
      "block_group": "ca9249a9de9f480e8f29256053789ad1"
    },
    {
      "cell_type": "markdown",
      "source": "سری زمانی اول : اختلاف اندیس دو نقطه اول و دوم \nسری زمانی دوم : اختلاف اندیس دو نقطه دوم و سوم ",
      "metadata": {
        "color": "purple",
        "formattedRanges": [],
        "cell_id": "9f7cf42637d541159cc7e4c8e9d5d56b",
        "deepnote_cell_type": "text-cell-p"
      },
      "block_group": "4b09e0ad28764938990c211f90b8c29c"
    },
    {
      "cell_type": "markdown",
      "source": "آمار گیری استراتژی براساس انتخاب سری زمانی\n",
      "metadata": {
        "color": "purple",
        "formattedRanges": [],
        "cell_id": "0cb7ec219c124527934618c73f103b12",
        "deepnote_cell_type": "text-cell-p"
      },
      "block_group": "c966eefe1f874abfb5961e7c58779bf9"
    },
    {
      "cell_type": "markdown",
      "source": "",
      "metadata": {
        "color": "purple",
        "formattedRanges": [],
        "cell_id": "34a673afbaa94770aa03a196c5dbc799",
        "deepnote_cell_type": "text-cell-p"
      },
      "block_group": "dc455a7bc6aa47ef9bed5fac8b8f392c"
    },
    {
      "cell_type": "markdown",
      "source": "اگر نقطه سری زمانی دوم از تعداد اندیس دیتای فعلی بیشتر باشه , رسم نشه \n",
      "metadata": {
        "color": "purple",
        "formattedRanges": [],
        "cell_id": "229d9c0482e943d7b1f4d5cbc507daf1",
        "deepnote_cell_type": "text-cell-p"
      },
      "block_group": "6a8992da681d40f880b03babff84726b"
    },
    {
      "cell_type": "code",
      "source": "import numpy as np\nimport matplotlib.pyplot as plt\n\n# Generate random linear data without seed\nrandom_data = np.random.rand(100)\n\n# Select two random points\npoint1, point2 = np.sort(np.random.choice(len(random_data), 2, replace=False))\n\n# Calculate سری زمانی اول (index difference)\n\"\"\"سری زمانی اول \"\"\"\nfirst_time_series = point2 - point1\n\n# Calculate سری زمانی دوم which is double the سری زمانی اول from point1\n\"\"\"سری زمانی دوم \"\"\"\nsecond_time_series = point1 + 2 * first_time_series\n\n# Ensure the سری زمانی دوم  is within the data range\nif second_time_series >= len(random_data):\n    print(f\"سری زمانی دوم {second_time_series} از تعداد اندیس دیتای فعلی بیشتر است و رسم نمی شود\")\nelse:\n    # Plot the data and the points\n    plt.figure(figsize=(10, 6))\n    plt.plot(random_data, label='Random Data')\n    plt.scatter([point1, point2, second_time_series], [random_data[point1], random_data[point2], random_data[second_time_series]], color=['red', 'blue', 'green'], zorder=5)\n    plt.text(point1, random_data[point1], 'Point 1', fontsize=12, ha='right')\n    plt.text(point2, random_data[point2], 'Point 2', fontsize=12, ha='right')\n    plt.text(second_time_series, random_data[second_time_series], 'New Point', fontsize=12, ha='right')\n    plt.title('Random Data with Selected Points')\n    plt.xlabel('Index')\n    plt.ylabel('Value')\n    plt.legend()\n    plt.grid(True)\n    plt.show()\n\n(point1, point2, second_time_series, first_time_series)",
      "metadata": {
        "source_hash": "28ea3ac7",
        "execution_start": 1724361433893,
        "execution_millis": 208,
        "deepnote_to_be_reexecuted": false,
        "cell_id": "95c99ea4813d409b83a6486e8e6aae6b",
        "deepnote_cell_type": "code"
      },
      "outputs": [],
      "outputs_reference": null,
      "execution_count": 15,
      "block_group": "3456222b5ebd4db9bab313a2253c6ca2",
      "content_dependencies": null
    },
    {
      "cell_type": "code",
      "source": "",
      "metadata": {
        "cell_id": "d2a2e089f82c4586a4804a07010f46ef",
        "deepnote_cell_type": "code"
      },
      "outputs": [],
      "outputs_reference": null,
      "execution_count": null,
      "block_group": "8660f75d18824b558a594f56495f3ad2",
      "content_dependencies": null
    },
    {
      "cell_type": "markdown",
      "source": "<a style='text-decoration:none;line-height:16px;display:flex;color:#5B5B62;padding:10px;justify-content:end;' href='https://deepnote.com?utm_source=created-in-deepnote-cell&projectId=18d553a4-31da-47a6-90e6-b2ebf6106d37' target=\"_blank\">\n<img alt='Created in deepnote.com' style='display:inline;max-height:16px;margin:0px;margin-right:7.5px;' src='data:image/svg+xml;base64,PD94bWwgdmVyc2lvbj0iMS4wIiBlbmNvZGluZz0iVVRGLTgiPz4KPHN2ZyB3aWR0aD0iODBweCIgaGVpZ2h0PSI4MHB4IiB2aWV3Qm94PSIwIDAgODAgODAiIHZlcnNpb249IjEuMSIgeG1sbnM9Imh0dHA6Ly93d3cudzMub3JnLzIwMDAvc3ZnIiB4bWxuczp4bGluaz0iaHR0cDovL3d3dy53My5vcmcvMTk5OS94bGluayI+CiAgICA8IS0tIEdlbmVyYXRvcjogU2tldGNoIDU0LjEgKDc2NDkwKSAtIGh0dHBzOi8vc2tldGNoYXBwLmNvbSAtLT4KICAgIDx0aXRsZT5Hcm91cCAzPC90aXRsZT4KICAgIDxkZXNjPkNyZWF0ZWQgd2l0aCBTa2V0Y2guPC9kZXNjPgogICAgPGcgaWQ9IkxhbmRpbmciIHN0cm9rZT0ibm9uZSIgc3Ryb2tlLXdpZHRoPSIxIiBmaWxsPSJub25lIiBmaWxsLXJ1bGU9ImV2ZW5vZGQiPgogICAgICAgIDxnIGlkPSJBcnRib2FyZCIgdHJhbnNmb3JtPSJ0cmFuc2xhdGUoLTEyMzUuMDAwMDAwLCAtNzkuMDAwMDAwKSI+CiAgICAgICAgICAgIDxnIGlkPSJHcm91cC0zIiB0cmFuc2Zvcm09InRyYW5zbGF0ZSgxMjM1LjAwMDAwMCwgNzkuMDAwMDAwKSI+CiAgICAgICAgICAgICAgICA8cG9seWdvbiBpZD0iUGF0aC0yMCIgZmlsbD0iIzAyNjVCNCIgcG9pbnRzPSIyLjM3NjIzNzYyIDgwIDM4LjA0NzY2NjcgODAgNTcuODIxNzgyMiA3My44MDU3NTkyIDU3LjgyMTc4MjIgMzIuNzU5MjczOSAzOS4xNDAyMjc4IDMxLjY4MzE2ODMiPjwvcG9seWdvbj4KICAgICAgICAgICAgICAgIDxwYXRoIGQ9Ik0zNS4wMDc3MTgsODAgQzQyLjkwNjIwMDcsNzYuNDU0OTM1OCA0Ny41NjQ5MTY3LDcxLjU0MjI2NzEgNDguOTgzODY2LDY1LjI2MTk5MzkgQzUxLjExMjI4OTksNTUuODQxNTg0MiA0MS42NzcxNzk1LDQ5LjIxMjIyODQgMjUuNjIzOTg0Niw0OS4yMTIyMjg0IEMyNS40ODQ5Mjg5LDQ5LjEyNjg0NDggMjkuODI2MTI5Niw0My4yODM4MjQ4IDM4LjY0NzU4NjksMzEuNjgzMTY4MyBMNzIuODcxMjg3MSwzMi41NTQ0MjUgTDY1LjI4MDk3Myw2Ny42NzYzNDIxIEw1MS4xMTIyODk5LDc3LjM3NjE0NCBMMzUuMDA3NzE4LDgwIFoiIGlkPSJQYXRoLTIyIiBmaWxsPSIjMDAyODY4Ij48L3BhdGg+CiAgICAgICAgICAgICAgICA8cGF0aCBkPSJNMCwzNy43MzA0NDA1IEwyNy4xMTQ1MzcsMC4yNTcxMTE0MzYgQzYyLjM3MTUxMjMsLTEuOTkwNzE3MDEgODAsMTAuNTAwMzkyNyA4MCwzNy43MzA0NDA1IEM4MCw2NC45NjA0ODgyIDY0Ljc3NjUwMzgsNzkuMDUwMzQxNCAzNC4zMjk1MTEzLDgwIEM0Ny4wNTUzNDg5LDc3LjU2NzA4MDggNTMuNDE4MjY3Nyw3MC4zMTM2MTAzIDUzLjQxODI2NzcsNTguMjM5NTg4NSBDNTMuNDE4MjY3Nyw0MC4xMjg1NTU3IDM2LjMwMzk1NDQsMzcuNzMwNDQwNSAyNS4yMjc0MTcsMzcuNzMwNDQwNSBDMTcuODQzMDU4NiwzNy43MzA0NDA1IDkuNDMzOTE5NjYsMzcuNzMwNDQwNSAwLDM3LjczMDQ0MDUgWiIgaWQ9IlBhdGgtMTkiIGZpbGw9IiMzNzkzRUYiPjwvcGF0aD4KICAgICAgICAgICAgPC9nPgogICAgICAgIDwvZz4KICAgIDwvZz4KPC9zdmc+' > </img>\nCreated in <span style='font-weight:600;margin-left:4px;'>Deepnote</span></a>",
      "metadata": {
        "created_in_deepnote_cell": true,
        "deepnote_cell_type": "markdown"
      }
    }
  ],
  "nbformat": 4,
  "nbformat_minor": 0,
  "metadata": {
    "deepnote_persisted_session": {
      "createdAt": "2024-08-22T15:45:59.069Z"
    },
    "deepnote_notebook_id": "a89e7e435e9e4a28891ae4be1c09d056",
    "deepnote_execution_queue": []
  }
}