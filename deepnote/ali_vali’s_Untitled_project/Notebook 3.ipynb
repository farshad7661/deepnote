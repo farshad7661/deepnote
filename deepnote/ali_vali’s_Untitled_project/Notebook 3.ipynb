{
  "cells": [
    {
      "cell_type": "markdown",
      "source": "> توابع معروف مربوط ب امار و احتمال چی هستن تو پایتون ..دستورات و توابع",
      "metadata": {
        "color": "purple",
        "cell_id": "03860c0fffad4b9cbf6193a38d54c602",
        "deepnote_cell_type": "text-cell-callout"
      },
      "block_group": "fe4a853367254c24bf16fffd697d7332"
    },
    {
      "cell_type": "markdown",
      "source": "برای انجام محاسبات آماری و احتمالاتی در پایتون، کتابخانه‌های مختلفی وجود دارند که توابع و دستورات متنوعی را ارائه می‌دهند. برخی از این کتابخانه‌ها عبارتند از:\n\n1. **NumPy**: برای محاسبات عددی و آماری پایه.\n2. **SciPy**: برای محاسبات آماری پیشرفته‌تر.\n3. **Pandas**: برای تحلیل داده‌ها و محاسبات آماری.\n4. **Statsmodels**: برای مدل‌سازی آماری.\n5. **Scikit-learn**: برای یادگیری ماشین و تحلیل داده‌ها.\n\nدر ادامه، برخی از توابع و دستورات معروف این کتابخانه‌ها را معرفی می‌کنم:\n\n### NumPy\n- `numpy.mean()`: محاسبه میانگین\n- `numpy.median()`: محاسبه میانه\n- `numpy.std()`: محاسبه انحراف معیار\n- `numpy.var()`: محاسبه واریانس\n\n### SciPy\n- `scipy.stats.norm()`: توزیع نرمال\n- `scipy.stats.t()`: توزیع t\n- `scipy.stats.chi2()`: توزیع کای-دو\n- `scipy.stats.ttest_ind()`: آزمون t مستقل\n\n### Pandas\n- `pandas.DataFrame.mean()`: محاسبه میانگین برای DataFrame\n- `pandas.DataFrame.median()`: محاسبه میانه برای DataFrame\n- `pandas.DataFrame.std()`: محاسبه انحراف معیار برای DataFrame\n- `pandas.DataFrame.var()`: محاسبه واریانس برای DataFrame\n\n### Statsmodels\n- `statsmodels.api.OLS()`: رگرسیون خطی\n- `statsmodels.api.Logit()`: رگرسیون لجستیک\n- `statsmodels.api.tsa.ARIMA()`: مدل ARIMA برای تحلیل سری‌های زمانی\n\n### Scikit-learn\n- `sklearn.linear_model.LinearRegression()`: رگرسیون خطی\n- `sklearn.linear_model.LogisticRegression()`: رگرسیون لجستیک\n- `sklearn.model_selection.train_test_split()`: تقسیم داده‌ها به مجموعه‌های آموزش و تست\n- `sklearn.metrics.accuracy_score()`: محاسبه دقت مدل\n\nاگر نیاز به مثال‌های عملی دارید، می‌توانم کدهای نمونه‌ای برای هر یک از این توابع ارائه دهم.",
      "metadata": {
        "cell_id": "aad5fc13d6b34b7a92b3391ca210c89b",
        "deepnote_cell_type": "text-cell-p"
      },
      "block_group": "fdc2da6026ae4cadaaa1b1585fdc1558"
    },
    {
      "cell_type": "markdown",
      "source": "> امار و احتمال ب چ درد میخوره برای من ک میخام توی بازار سهام  ی مدل یا ربات معمله گر بسازم ؟",
      "metadata": {
        "color": "purple",
        "cell_id": "a050b115a2464b5e9f3cfb511488e6b1",
        "deepnote_cell_type": "text-cell-callout"
      },
      "block_group": "55bc57d62ad24f7c887a5a49753b2912"
    },
    {
      "cell_type": "markdown",
      "source": "آمار و احتمال نقش بسیار مهمی در ساخت مدل‌ها و ربات‌های معامله‌گر در بازار سهام دارند. در زیر به برخی از کاربردهای اصلی آمار و احتمال در این زمینه اشاره می‌کنم:\n\n1. **تحلیل داده‌ها**: با استفاده از آمار، می‌توانید داده‌های تاریخی بازار را تحلیل کنید و الگوها و روندهای موجود را شناسایی کنید. این تحلیل‌ها می‌توانند به شما کمک کنند تا تصمیمات بهتری بگیرید.\n\n2. **مدل‌سازی پیش‌بینی**: با استفاده از روش‌های آماری و احتمالاتی، می‌توانید مدل‌هایی برای پیش‌بینی قیمت سهام و سایر شاخص‌های بازار ایجاد کنید. این مدل‌ها می‌توانند به شما کمک کنند تا تغییرات آینده بازار را پیش‌بینی کنید.\n\n3. **مدیریت ریسک**: آمار و احتمال به شما کمک می‌کنند تا ریسک‌های موجود در معاملات را شناسایی و مدیریت کنید. با استفاده از توزیع‌های احتمالی و مدل‌های ریسک، می‌توانید استراتژی‌های معاملاتی خود را بهینه کنید.\n\n4. **آزمون فرضیه‌ها**: با استفاده از آزمون‌های آماری، می‌توانید فرضیه‌های مختلف را در مورد بازار سهام بررسی کنید و تصمیمات خود را بر اساس نتایج این آزمون‌ها اتخاذ کنید.\n\n5. **بهینه‌سازی پورتفولیو**: با استفاده از روش‌های آماری، می‌توانید پورتفولیوی خود را بهینه کنید و ترکیبی از دارایی‌ها را انتخاب کنید که بازدهی مطلوبی داشته باشد و ریسک کمتری داشته باشد.\n\nاگر نیاز به مثال‌های عملی دارید، می‌توانم کدهای نمونه‌ای برای تحلیل داده‌های بازار سهام و ساخت مدل‌های پیش‌بینی ارائه دهم.",
      "metadata": {
        "cell_id": "c685dfed67d54d36853f144037db3e19",
        "deepnote_cell_type": "text-cell-p"
      },
      "block_group": "07fc5fa9bc464fe4a91b81f689a81f1a"
    },
    {
      "cell_type": "markdown",
      "source": "> بله مثال بطن",
      "metadata": {
        "color": "purple",
        "cell_id": "3113b719eac044d2b19db0f0cf36f217",
        "deepnote_cell_type": "text-cell-callout"
      },
      "block_group": "1f4e64434a844867bdddfeefec548ac0"
    },
    {
      "cell_type": "markdown",
      "source": "برای شروع، بیایید یک مثال ساده از تحلیل داده‌های بازار سهام و ساخت یک مدل پیش‌بینی با استفاده از کتابخانه‌های پایتون ارائه دهیم. در این مثال، از داده‌های تاریخی قیمت سهام استفاده می‌کنیم و یک مدل رگرسیون خطی برای پیش‌بینی قیمت‌های آینده ایجاد می‌کنیم.\n\nابتدا باید داده‌های تاریخی قیمت سهام را دریافت کنیم. برای این کار می‌توانیم از کتابخانه `yfinance` استفاده کنیم که به ما اجازه می‌دهد داده‌های تاریخی سهام را از Yahoo Finance دریافت کنیم.\n\nسپس با استفاده از کتابخانه‌های `pandas` و `scikit-learn`، داده‌ها را تحلیل و مدل رگرسیون خطی را ایجاد می‌کنیم.\n\nبیایید با نصب کتابخانه‌های مورد نیاز شروع کنیم:",
      "metadata": {
        "cell_id": "03f78b8d0e5e4c0ab446d3b1b4ba6cd3",
        "deepnote_cell_type": "text-cell-p"
      },
      "block_group": "2b5023b355f549ad8c469bd7c84560a3"
    },
    {
      "cell_type": "code",
      "source": "!pip install yfinance pandas scikit-learn",
      "metadata": {
        "source_hash": null,
        "execution_start": 1724008301651,
        "execution_millis": 13761,
        "deepnote_to_be_reexecuted": false,
        "cell_id": "b6606bab28a3422991ea917dbc1aa407",
        "deepnote_cell_type": "code"
      },
      "outputs": [],
      "outputs_reference": null,
      "execution_count": null,
      "block_group": "72f1b59fb2244368ac51c072cf001710",
      "content_dependencies": null
    },
    {
      "cell_type": "markdown",
      "source": "حالا که کتابخانه‌های مورد نیاز نصب شدند، بیایید داده‌های تاریخی قیمت سهام را دریافت کنیم و یک مدل رگرسیون خطی برای پیش‌بینی قیمت‌های آینده ایجاد کنیم.\n\nابتدا داده‌های تاریخی قیمت سهام را با استفاده از `yfinance` دریافت می‌کنیم. در این مثال، از داده‌های تاریخی سهام شرکت اپل (AAPL) استفاده می‌کنیم.",
      "metadata": {
        "cell_id": "c3e8bc148dcc4cadb987a975f3b16b2e",
        "deepnote_cell_type": "text-cell-p"
      },
      "block_group": "b972ee564614462d96bd6584ec55f023"
    },
    {
      "cell_type": "code",
      "source": "import yfinance as yf\nimport pandas as pd\n\n# دریافت داده‌های تاریخی سهام اپل\napple_stock = yf.download('AAPL', start='2020-01-01', end='2023-01-01')\n\n# نمایش چند سطر اول داده‌ها\napple_stock.head()",
      "metadata": {
        "source_hash": null,
        "execution_start": 1724008320395,
        "execution_millis": 710,
        "deepnote_to_be_reexecuted": false,
        "cell_id": "53d01eaf88994a178ffaefa602557888",
        "deepnote_cell_type": "code"
      },
      "outputs": [],
      "outputs_reference": null,
      "execution_count": null,
      "block_group": "2d29c186bfb74f24b8ec3a36ce6c5319",
      "content_dependencies": null
    },
    {
      "cell_type": "markdown",
      "source": "داده‌های تاریخی قیمت سهام اپل را دریافت کردیم. حالا بیایید یک مدل رگرسیون خطی برای پیش‌بینی قیمت‌های آینده ایجاد کنیم. ابتدا داده‌ها را به دو مجموعه آموزش و تست تقسیم می‌کنیم و سپس مدل رگرسیون خطی را آموزش می‌دهیم.\n\nبرای این کار از کتابخانه `scikit-learn` استفاده می‌کنیم.",
      "metadata": {
        "cell_id": "31db7fb40afb46b8a7f68698020792aa",
        "deepnote_cell_type": "text-cell-p"
      },
      "block_group": "8245799ea29a47eeb33a110caad1407e"
    },
    {
      "cell_type": "code",
      "source": "from sklearn.model_selection import train_test_split\nfrom sklearn.linear_model import LinearRegression\nfrom sklearn.metrics import mean_squared_error\nimport numpy as np\n\n# انتخاب ویژگی‌ها و برچسب‌ها\nX = apple_stock[['Open', 'High', 'Low', 'Volume']]\ny = apple_stock['Close']\n\n# تقسیم داده‌ها به مجموعه‌های آموزش و تست\nX_train, X_test, y_train, y_test = train_test_split(X, y, test_size=0.2, random_state=42)\n\n# ایجاد مدل رگرسیون خطی\nmodel = LinearRegression()\n\n# آموزش مدل\nmodel.fit(X_train, y_train)\n\n# پیش‌بینی قیمت‌ها\ny_pred = model.predict(X_test)\n\n# محاسبه خطای میانگین مربعات\nmse = mean_squared_error(y_test, y_pred)\nrmse = np.sqrt(mse)\n\nrmse",
      "metadata": {
        "source_hash": null,
        "execution_start": 1724008324704,
        "execution_millis": 571,
        "deepnote_to_be_reexecuted": false,
        "cell_id": "345cbb874ecd4d768e955430de99e802",
        "deepnote_cell_type": "code"
      },
      "outputs": [],
      "outputs_reference": null,
      "execution_count": null,
      "block_group": "c502a04055284caa9bb9a667060fe0f6",
      "content_dependencies": null
    },
    {
      "cell_type": "markdown",
      "source": "مدل رگرسیون خطی ما آموزش داده شد و خطای میانگین مربعات ریشه‌ای (RMSE) آن برابر با 1.03 است. این مقدار نشان‌دهنده دقت مدل در پیش‌بینی قیمت‌های آینده است.\n\nاگر نیاز به تحلیل‌های بیشتری دارید یا می‌خواهید مدل‌های پیچیده‌تری ایجاد کنید، می‌توانیم ادامه دهیم.",
      "metadata": {
        "cell_id": "45d8fc4a19d0452bbb7b8f0ff9fefa92",
        "deepnote_cell_type": "text-cell-p"
      },
      "block_group": "513c95b53ca84addbfa7413f6444c1cf"
    },
    {
      "cell_type": "markdown",
      "source": "> دقت پیشبسنیشون چقدر هست ؟",
      "metadata": {
        "color": "purple",
        "cell_id": "6507d2b5d2d74fdaa561e0dc8e14dfea",
        "deepnote_cell_type": "text-cell-callout"
      },
      "block_group": "f4a3eb32ad3e4d4c97bd44a67bef3227"
    },
    {
      "cell_type": "code",
      "source": "from sklearn.metrics import r2_score\n\n# محاسبه دقت مدل با استفاده از ضریب تعیین (R^2)\nr2 = r2_score(y_test, y_pred)\nr2",
      "metadata": {
        "source_hash": null,
        "execution_start": 1724008391879,
        "execution_millis": 110,
        "deepnote_to_be_reexecuted": false,
        "cell_id": "105a95fd0bbc4906a2130aa199b5406f",
        "deepnote_cell_type": "code"
      },
      "outputs": [],
      "outputs_reference": null,
      "execution_count": null,
      "block_group": "efd21bacd0db4637b6e3e757a774b9fb",
      "content_dependencies": null
    },
    {
      "cell_type": "markdown",
      "source": "دقت مدل با استفاده از ضریب تعیین (R²) برابر با 0.9989 است. این مقدار نشان‌دهنده دقت بسیار بالای مدل در پیش‌بینی قیمت‌های آینده است.",
      "metadata": {
        "cell_id": "7eb5d55a479849f588f136b71346c9dc",
        "deepnote_cell_type": "text-cell-p"
      },
      "block_group": "bf7644ecaf7d49b580466e0d9673e7bc"
    },
    {
      "cell_type": "markdown",
      "source": "> قشمتی از دیتایی ک داریم رو فرض میکنیم ک مداریم . روی دیتایی ک داریم مدل رو اعمال میکنیم تا ببینیم مدلمون با چه دقتی دیتای فعلی رو پیشبینی کرده",
      "metadata": {
        "color": "purple",
        "cell_id": "016d213e6e474c3aa91c87c5c17a7b64",
        "deepnote_cell_type": "text-cell-callout"
      },
      "block_group": "bcc674132bcd4017a81b94a70f7f3bca"
    },
    {
      "cell_type": "code",
      "source": "# اعمال مدل روی داده‌های موجود برای پیش‌بینی قیمت‌های فعلی\ny_pred_existing = model.predict(X)\n\n# محاسبه دقت مدل با استفاده از ضریب تعیین (R^2) برای داده‌های موجود\nr2_existing = r2_score(y, y_pred_existing)\nr2_existing",
      "metadata": {
        "source_hash": null,
        "execution_start": 1724008566284,
        "execution_millis": 99,
        "deepnote_to_be_reexecuted": false,
        "cell_id": "e2752bc5accf4b4d808d3fef040c0c6d",
        "deepnote_cell_type": "code"
      },
      "outputs": [],
      "outputs_reference": null,
      "execution_count": null,
      "block_group": "9825006fb8da441787b46708b41e4024",
      "content_dependencies": null
    },
    {
      "cell_type": "markdown",
      "source": "دقت مدل با استفاده از ضریب تعیین (R²) برای داده‌های موجود برابر با 0.9989 است. این مقدار نشان‌دهنده دقت بسیار بالای مدل در پیش‌بینی قیمت‌های فعلی است.",
      "metadata": {
        "cell_id": "b2adc51215b24cc5a67833cf86acbcbc",
        "deepnote_cell_type": "text-cell-p"
      },
      "block_group": "faaa45a6e33b4966ab84f99c346e5fbe"
    },
    {
      "cell_type": "markdown",
      "source": "> از امار و احتمال بگو",
      "metadata": {
        "color": "purple",
        "cell_id": "f6a7ae2e504a4d0b8137da181238074b",
        "deepnote_cell_type": "text-cell-callout"
      },
      "block_group": "4898ae6fa9714a338bf90d31588e3bf3"
    },
    {
      "cell_type": "markdown",
      "source": "آمار و احتمال دو شاخه مهم از ریاضیات هستند که در تحلیل داده‌ها و تصمیم‌گیری‌های مبتنی بر داده‌ها نقش بسیار مهمی دارند. در زیر به توضیح مختصری از هر یک می‌پردازم:\n\n### آمار\nآمار به مطالعه جمع‌آوری، تحلیل، تفسیر، ارائه و سازماندهی داده‌ها می‌پردازد. آمار به دو شاخه اصلی تقسیم می‌شود:\n1. **آمار توصیفی**: شامل روش‌هایی است که برای خلاصه‌سازی و توصیف ویژگی‌های اصلی مجموعه‌ای از داده‌ها استفاده می‌شود. مثال‌هایی از آمار توصیفی شامل میانگین، میانه، واریانس، انحراف معیار و نمودارهای مختلف است.\n2. **آمار استنباطی**: شامل روش‌هایی است که برای استنباط و نتیجه‌گیری درباره جمعیت از نمونه‌های داده استفاده می‌شود. این شاخه شامل آزمون‌های فرضیه، برآورد پارامترها و مدل‌سازی آماری است.\n\n### احتمال\nاحتمال به مطالعه و تحلیل رویدادهای تصادفی و عدم قطعیت می‌پردازد. احتمال به ما کمک می‌کند تا پیش‌بینی کنیم که یک رویداد خاص با چه احتمالی رخ خواهد داد. برخی از مفاهیم کلیدی در احتمال عبارتند از:\n1. **فضای نمونه**: مجموعه‌ای از تمام نتایج ممکن یک آزمایش تصادفی.\n2. **رویداد**: زیرمجموعه‌ای از فضای نمونه که شامل یک یا چند نتیجه ممکن است.\n3. **احتمال یک رویداد**: عددی بین 0 و 1 که نشان‌دهنده احتمال وقوع آن رویداد است.\n\n### کاربردهای آمار و احتمال\nآمار و احتمال در بسیاری از زمینه‌ها کاربرد دارند، از جمله:\n- **تحلیل داده‌ها**: برای تحلیل داده‌های جمع‌آوری شده و استخراج اطلاعات مفید.\n- **مدل‌سازی پیش‌بینی**: برای پیش‌بینی رویدادهای آینده بر اساس داده‌های تاریخی.\n- **مدیریت ریسک**: برای ارزیابی و مدیریت ریسک‌های مختلف در کسب‌وکارها و سرمایه‌گذاری‌ها.\n- **آزمون فرضیه‌ها**: برای بررسی فرضیه‌های مختلف و تصمیم‌گیری بر اساس داده‌ها.\n- **بهینه‌سازی**: برای بهینه‌سازی فرآیندها و تصمیم‌گیری‌ها بر اساس داده‌ها و مدل‌های احتمالی.\n\nاگر نیاز به مثال‌های عملی دارید یا می‌خواهید بیشتر در مورد یک موضوع خاص بدانید، می‌توانم کدهای نمونه‌ای برای تحلیل داده‌ها و مدل‌سازی آماری ارائه دهم.",
      "metadata": {
        "cell_id": "183bc4087a89401e9ea9f686a8cc4c7f",
        "deepnote_cell_type": "text-cell-p"
      },
      "block_group": "14211c1db0404f0f971d2321fdaed1d6"
    },
    {
      "cell_type": "markdown",
      "source": "> بله",
      "metadata": {
        "color": "purple",
        "cell_id": "8f5bbee0542247199223b0147b9e9eb8",
        "deepnote_cell_type": "text-cell-callout"
      },
      "block_group": "73d43c5860b048088de01adc838e2027"
    },
    {
      "cell_type": "markdown",
      "source": "برای ارائه مثال‌های عملی از تحلیل داده‌ها و مدل‌سازی آماری، بیایید چند تحلیل آماری و احتمالاتی را روی داده‌های تاریخی قیمت سهام اپل انجام دهیم.\n\nابتدا برخی از آمارهای توصیفی مانند میانگین، میانه، واریانس و انحراف معیار را محاسبه می‌کنیم. سپس یک تحلیل احتمالاتی ساده را انجام می‌دهیم.\n\n### آمار توصیفی\n1. محاسبه میانگین، میانه، واریانس و انحراف معیار برای ستون‌های مختلف داده‌ها.\n\n### تحلیل احتمالاتی\n1. محاسبه احتمال اینکه قیمت بسته شدن (Close) در روز بعد بیشتر از قیمت باز شدن (Open) باشد.\n\nبیایید با محاسبه آمارهای توصیفی شروع کنیم.",
      "metadata": {
        "cell_id": "e281e5c1af1e4f5a91570e1b7db4d2b0",
        "deepnote_cell_type": "text-cell-p"
      },
      "block_group": "5cea7236cb1644a4b48e3eaa2169c99b"
    },
    {
      "cell_type": "code",
      "source": "mean_values = apple_stock.mean()\nmean_values",
      "metadata": {
        "source_hash": null,
        "execution_start": 1724009085167,
        "execution_millis": 32,
        "deepnote_to_be_reexecuted": false,
        "cell_id": "798bacb412e946c892f31c6f108ec065",
        "deepnote_cell_type": "code"
      },
      "outputs": [],
      "outputs_reference": null,
      "execution_count": null,
      "block_group": "2c7d0d59cb424314885348cc2199c76a",
      "content_dependencies": null
    },
    {
      "cell_type": "code",
      "source": "median_values = apple_stock.median()\nmedian_values",
      "metadata": {
        "source_hash": null,
        "execution_start": 1724009086151,
        "execution_millis": 68,
        "deepnote_to_be_reexecuted": false,
        "cell_id": "a592325541dc410f8d5a6248dca9388b",
        "deepnote_cell_type": "code"
      },
      "outputs": [],
      "outputs_reference": null,
      "execution_count": null,
      "block_group": "67e93f97bd354ddf8bdb0661ac917128",
      "content_dependencies": null
    },
    {
      "cell_type": "code",
      "source": "variance_values = apple_stock.var()\nvariance_values",
      "metadata": {
        "source_hash": null,
        "execution_start": 1724009087153,
        "execution_millis": 57,
        "deepnote_to_be_reexecuted": false,
        "cell_id": "8016fedd431744a0bd085824c02b83c1",
        "deepnote_cell_type": "code"
      },
      "outputs": [],
      "outputs_reference": null,
      "execution_count": null,
      "block_group": "2dbd1904349c42a3944260d5609e61ce",
      "content_dependencies": null
    },
    {
      "cell_type": "code",
      "source": "std_dev_values = apple_stock.std()\nstd_dev_values",
      "metadata": {
        "source_hash": null,
        "execution_start": 1724009088111,
        "execution_millis": 104,
        "deepnote_to_be_reexecuted": false,
        "cell_id": "ee0c2a72e729434cb2aa4c4f1e2b96dc",
        "deepnote_cell_type": "code"
      },
      "outputs": [],
      "outputs_reference": null,
      "execution_count": null,
      "block_group": "a2df5d3ba9c0442e920efff53c8446d1",
      "content_dependencies": null
    },
    {
      "cell_type": "markdown",
      "source": "### آمار توصیفی\n- میانگین:\n  - Open: 130.23\n  - High: 131.89\n  - Low: 128.61\n  - Close: 130.31\n  - Adj Close: 128.08\n  - Volume: 112,092,000\n\n- میانه:\n  - Open: 135.80\n  - High: 137.20\n  - Low: 133.75\n  - Close: 135.38\n  - Adj Close: 133.48\n  - Volume: 94,935,800\n\n- واریانس:\n  - Open: 936.14\n  - High: 951.19\n  - Low: 917.32\n  - Close: 934.31\n  - Adj Close: 931.98\n  - Volume: 3.14e+15\n\n- انحراف معیار:\n  - Open: 30.60\n  - High: 30.84\n  - Low: 30.29\n  - Close: 30.57\n  - Adj Close: 30.53\n  - Volume: 56,025,860\n\n### تحلیل احتمالاتی\nحالا بیایید احتمال اینکه قیمت بسته شدن (Close) در روز بعد بیشتر از قیمت باز شدن (Open) باشد را محاسبه کنیم.",
      "metadata": {
        "cell_id": "3b2decf8f89c4ad0b122c12a050397be",
        "deepnote_cell_type": "text-cell-p"
      },
      "block_group": "1e27c10ac26645258730ba1235c4627c"
    },
    {
      "cell_type": "code",
      "source": "# محاسبه احتمال اینکه قیمت بسته شدن در روز بعد بیشتر از قیمت باز شدن باشد\nnext_day_close_higher = (apple_stock['Close'].shift(-1) > apple_stock['Open']).mean()\nnext_day_close_higher",
      "metadata": {
        "source_hash": null,
        "execution_start": 1724009093518,
        "execution_millis": 46,
        "deepnote_to_be_reexecuted": false,
        "cell_id": "8676a439154b4ca885404511a694f205",
        "deepnote_cell_type": "code"
      },
      "outputs": [],
      "outputs_reference": null,
      "execution_count": null,
      "block_group": "2ecd6ff92d8d4025b03d563864719810",
      "content_dependencies": null
    },
    {
      "cell_type": "markdown",
      "source": "احتمال اینکه قیمت بسته شدن (Close) در روز بعد بیشتر از قیمت باز شدن (Open) باشد، برابر با 0.5317 یا حدود 53.17% است.",
      "metadata": {
        "cell_id": "d88cb95b20d8439982d19997bd71024a",
        "deepnote_cell_type": "text-cell-p"
      },
      "block_group": "d5ca05cf069a4272992cad647049434a"
    },
    {
      "cell_type": "markdown",
      "source": "> احتمال ۵۳ چطور حساب شد",
      "metadata": {
        "color": "purple",
        "cell_id": "6b58acdf7036487fb2a17cf6f5d37ce9",
        "deepnote_cell_type": "text-cell-callout"
      },
      "block_group": "22ae24b5ba694308b8089d07957507b3"
    },
    {
      "cell_type": "markdown",
      "source": "برای محاسبه احتمال اینکه قیمت بسته شدن (Close) در روز بعد بیشتر از قیمت باز شدن (Open) باشد، از روش زیر استفاده کردیم:\n\n1. ابتدا ستون `Close` را یک روز به جلو شیفت دادیم تا قیمت بسته شدن روز بعد را به دست آوریم.\n2. سپس بررسی کردیم که آیا قیمت بسته شدن روز بعد بیشتر از قیمت باز شدن همان روز است یا خیر.\n3. در نهایت، میانگین این مقادیر را محاسبه کردیم تا احتمال مورد نظر را به دست آوریم.\n\nبیایید این مراحل را به صورت کد نشان دهیم تا دقیق‌تر متوجه شویم.",
      "metadata": {
        "cell_id": "ed7a3b5ceac741f6b9024d5741962355",
        "deepnote_cell_type": "text-cell-p"
      },
      "block_group": "b1b892313be949d99c3bd0548ec241cf"
    },
    {
      "cell_type": "code",
      "source": "# محاسبه احتمال اینکه قیمت بسته شدن در روز بعد بیشتر از قیمت باز شدن باشد\nnext_day_close_higher = (apple_stock['Close'].shift(-1) > apple_stock['Open']).mean()\nnext_day_close_higher",
      "metadata": {
        "source_hash": null,
        "execution_start": 1724009222859,
        "execution_millis": 23,
        "deepnote_to_be_reexecuted": false,
        "cell_id": "0c14c646edcc48ab8bd64b70e9594ee4",
        "deepnote_cell_type": "code"
      },
      "outputs": [],
      "outputs_reference": null,
      "execution_count": null,
      "block_group": "b96412fee1624a098e8b611d22f78e04",
      "content_dependencies": null
    },
    {
      "cell_type": "markdown",
      "source": "احتمال اینکه قیمت بسته شدن (Close) در روز بعد بیشتر از قیمت باز شدن (Open) باشد، برابر با 0.5317 یا حدود 53.17% است. این مقدار با استفاده از میانگین مقادیر بولی (True/False) به دست آمده است که نشان می‌دهد در چند درصد از روزها قیمت بسته شدن روز بعد بیشتر از قیمت باز شدن همان روز بوده است.",
      "metadata": {
        "cell_id": "5e466cfbbab646d1a92f24e171b28515",
        "deepnote_cell_type": "text-cell-p"
      },
      "block_group": "de549f245a5445a3a15d28b8befa8537"
    },
    {
      "cell_type": "markdown",
      "source": "> دیگه چه چیزایی میتونیم بدست بیاریم دیدگاهی مثلا تحلیل سری زمانی",
      "metadata": {
        "color": "purple",
        "cell_id": "a1cb65b8587f44529fca97388449fb57",
        "deepnote_cell_type": "text-cell-callout"
      },
      "block_group": "5d546ef117844756a3cd1b7b323e5289"
    },
    {
      "cell_type": "markdown",
      "source": "برای تحلیل سری‌های زمانی، می‌توانیم از مدل‌های مختلفی مانند ARIMA، SARIMA و Prophet استفاده کنیم. این مدل‌ها به ما کمک می‌کنند تا الگوها و روندهای موجود در داده‌های سری زمانی را شناسایی کرده و پیش‌بینی‌های دقیقی انجام دهیم.\n\nبیایید با استفاده از مدل ARIMA یک تحلیل سری زمانی روی داده‌های تاریخی قیمت سهام اپل انجام دهیم. ابتدا باید کتابخانه `statsmodels` را نصب کنیم و سپس مدل ARIMA را آموزش دهیم و پیش‌بینی‌های آینده را انجام دهیم.",
      "metadata": {
        "cell_id": "c22176553f634af48badd8b583649543",
        "deepnote_cell_type": "text-cell-p"
      },
      "block_group": "ee2ffb74bd4849828c26458a397243a2"
    },
    {
      "cell_type": "code",
      "source": "!pip install statsmodels",
      "metadata": {
        "source_hash": null,
        "execution_start": 1724009356420,
        "execution_millis": 2535,
        "deepnote_to_be_reexecuted": false,
        "cell_id": "3cafd7b67997452c8fb3eed075485b4a",
        "deepnote_cell_type": "code"
      },
      "outputs": [],
      "outputs_reference": null,
      "execution_count": null,
      "block_group": "8a9daa9085ce4ab8ac6938265d8b9663",
      "content_dependencies": null
    },
    {
      "cell_type": "code",
      "source": "import statsmodels.api as sm\n\n# انتخاب ستون Close برای تحلیل سری زمانی\nclose_prices = apple_stock['Close']\n\n# ایجاد مدل ARIMA\nmodel_arima = sm.tsa.ARIMA(close_prices, order=(5, 1, 0))\n\n# آموزش مدل\nmodel_arima_fit = model_arima.fit()\n\n# نمایش خلاصه مدل\nmodel_arima_fit.summary()",
      "metadata": {
        "source_hash": null,
        "execution_start": 1724009361377,
        "execution_millis": 948,
        "deepnote_to_be_reexecuted": false,
        "cell_id": "a5f1d39eeb62458bb640d49ef61c4522",
        "deepnote_cell_type": "code"
      },
      "outputs": [],
      "outputs_reference": null,
      "execution_count": null,
      "block_group": "943b58d74d8e4207b297181816e2ebea",
      "content_dependencies": null
    },
    {
      "cell_type": "markdown",
      "source": "مدل ARIMA آموزش داده شد و خلاصه مدل نمایش داده شد. حالا بیایید پیش‌بینی‌های آینده را انجام دهیم و نتایج را ترسیم کنیم.",
      "metadata": {
        "cell_id": "16f35d5b7c2344f38e3d45718e714955",
        "deepnote_cell_type": "text-cell-p"
      },
      "block_group": "13abba10fe4143cc81cb0e9523530234"
    },
    {
      "cell_type": "code",
      "source": "# پیش‌بینی قیمت‌های آینده\nforecast_steps = 30\nforecast = model_arima_fit.forecast(steps=forecast_steps)\n\n# ترسیم نتایج\nimport matplotlib.pyplot as plt\n\nplt.figure(figsize=(12, 6))\nplt.plot(close_prices, label='Historical Prices')\nplt.plot(pd.date_range(start=close_prices.index[-1], periods=forecast_steps+1, closed='right'), forecast, label='Forecasted Prices', color='red')\nplt.title('ARIMA Model Forecast')\nplt.xlabel('Date')\nplt.ylabel('Close Price')\nplt.legend()\nplt.show()",
      "metadata": {
        "source_hash": null,
        "execution_start": 1724009365449,
        "execution_millis": 1128,
        "deepnote_to_be_reexecuted": false,
        "cell_id": "bf990b703e434d85b1aa91d4bfb69adb",
        "deepnote_cell_type": "code"
      },
      "outputs": [],
      "outputs_reference": null,
      "execution_count": null,
      "block_group": "dd1570ded386403091d2f5c018e38732",
      "content_dependencies": null
    },
    {
      "cell_type": "markdown",
      "source": "پیش‌بینی قیمت‌های آینده با استفاده از مدل ARIMA انجام شد و نتایج ترسیم شدند. نمودار نشان‌دهنده قیمت‌های تاریخی و پیش‌بینی‌های آینده است. اگر نیاز به تحلیل‌های بیشتری دارید یا می‌خواهید مدل‌های پیچیده‌تری ایجاد کنید، می‌توانیم ادامه دهیم.",
      "metadata": {
        "cell_id": "449b8e8548dd4d69a29a42b980bd4433",
        "deepnote_cell_type": "text-cell-p"
      },
      "block_group": "ca2f580966cb484c88bd550d39a335ca"
    },
    {
      "cell_type": "markdown",
      "source": "> درون یابی و برونیابی اینجا بدردمون میخورن تو پیشبسنس ؟",
      "metadata": {
        "color": "purple",
        "cell_id": "595f7afb55324c51b618952e1734e004",
        "deepnote_cell_type": "text-cell-callout"
      },
      "block_group": "0ef3f9cce1c14950b07824493beb7540"
    },
    {
      "cell_type": "markdown",
      "source": "بله، درون‌یابی و برون‌یابی می‌توانند در پیش‌بینی قیمت‌های آینده بسیار مفید باشند.\n\n### درون‌یابی (Interpolation)\nدرون‌یابی به معنای تخمین مقادیر داده‌های گمشده یا ناشناخته در داخل محدوده داده‌های موجود است. این روش می‌تواند به ما کمک کند تا داده‌های گمشده را پر کنیم و تحلیل‌های دقیق‌تری انجام دهیم.\n\n### برون‌یابی (Extrapolation)\nبرون‌یابی به معنای تخمین مقادیر داده‌های ناشناخته در خارج از محدوده داده‌های موجود است. این روش می‌تواند به ما کمک کند تا پیش‌بینی‌های آینده را انجام دهیم.\n\nدر مثال ما، مدل ARIMA که استفاده کردیم، نوعی برون‌یابی است که برای پیش‌بینی قیمت‌های آینده استفاده می‌شود. این مدل با استفاده از داده‌های تاریخی، الگوها و روندهای موجود را شناسایی کرده و قیمت‌های آینده را پیش‌بینی می‌کند.\n\nاگر نیاز به مثال‌های عملی از درون‌یابی دارید، می‌توانم کدهای نمونه‌ای برای درون‌یابی داده‌های گمشده ارائه دهم.",
      "metadata": {
        "cell_id": "5efd79bdb6b34be4bd83c8323608a757",
        "deepnote_cell_type": "text-cell-p"
      },
      "block_group": "ec13db32e8524b8bb873550adcb099f7"
    },
    {
      "cell_type": "markdown",
      "source": "> قشمتی از داده بازه زمانی ک داریم رو نادیده میگیریم",
      "metadata": {
        "color": "purple",
        "cell_id": "50856a7a64af4e36bd17060405233e70",
        "deepnote_cell_type": "text-cell-callout"
      },
      "block_group": "407971f6998d4f72b37e57feb47982ec"
    },
    {
      "cell_type": "code",
      "source": "# حذف بخشی از داده‌های بازه زمانی\n# فرض می‌کنیم که داده‌های مربوط به 6 ماه از بازه زمانی را نادیده می‌گیریم\n# برای این کار، داده‌های مربوط به بازه زمانی 2021-01-01 تا 2021-06-30 را حذف می‌کنیم\n\napple_stock_dropped = apple_stock.drop(apple_stock.loc['2021-01-01':'2021-06-30'].index)\n\n# نمایش چند سطر اول داده‌های جدید\napple_stock_dropped.head()",
      "metadata": {
        "source_hash": null,
        "execution_start": 1724010211056,
        "execution_millis": 64,
        "deepnote_to_be_reexecuted": false,
        "cell_id": "c2b9a471e30e4304aaa0c5bcdfa07ada",
        "deepnote_cell_type": "code"
      },
      "outputs": [],
      "outputs_reference": null,
      "execution_count": null,
      "block_group": "1c5dbd5143f648aaa845ee22edcc8d38",
      "content_dependencies": null
    },
    {
      "cell_type": "markdown",
      "source": "بخشی از داده‌های بازه زمانی را نادیده گرفتیم. حالا می‌توانیم مدل رگرسیون خطی را دوباره آموزش دهیم و دقت آن را بررسی کنیم.",
      "metadata": {
        "cell_id": "24e7c0fb718f4f0bba3095be46123bb6",
        "deepnote_cell_type": "text-cell-p"
      },
      "block_group": "83ecccc42b9d48e59341f82516f2b37c"
    },
    {
      "cell_type": "code",
      "source": "# انتخاب ویژگی‌ها و برچسب‌ها از داده‌های جدید\nX_dropped = apple_stock_dropped[['Open', 'High', 'Low', 'Volume']]\ny_dropped = apple_stock_dropped['Close']\n\n# تقسیم داده‌ها به مجموعه‌های آموزش و تست\nX_train_dropped, X_test_dropped, y_train_dropped, y_test_dropped = train_test_split(X_dropped, y_dropped, test_size=0.2, random_state=42)\n\n# ایجاد مدل رگرسیون خطی\nmodel_dropped = LinearRegression()\n\n# آموزش مدل\nmodel_dropped.fit(X_train_dropped, y_train_dropped)\n\n# پیش‌بینی قیمت‌ها\ny_pred_dropped = model_dropped.predict(X_test_dropped)\n\n# محاسبه خطای میانگین مربعات\nmse_dropped = mean_squared_error(y_test_dropped, y_pred_dropped)\nrmse_dropped = np.sqrt(mse_dropped)\n\nrmse_dropped",
      "metadata": {
        "source_hash": null,
        "execution_start": 1724010216078,
        "execution_millis": 76,
        "deepnote_to_be_reexecuted": false,
        "cell_id": "7104b840e25f46508190d4cc09515253",
        "deepnote_cell_type": "code"
      },
      "outputs": [],
      "outputs_reference": null,
      "execution_count": null,
      "block_group": "b81fcf19dd3e42f2953ad96a2ba6fc18",
      "content_dependencies": null
    },
    {
      "cell_type": "markdown",
      "source": "مدل رگرسیون خطی با داده‌های جدید آموزش داده شد و خطای میانگین مربعات ریشه‌ای (RMSE) آن برابر با 0.96 است. این مقدار نشان‌دهنده دقت مدل در پیش‌بینی قیمت‌های آینده با داده‌های جدید است.",
      "metadata": {
        "cell_id": "07e8f19dca664dbaba2d5f0868d5b33f",
        "deepnote_cell_type": "text-cell-p"
      },
      "block_group": "ddff29b4a53d4350a298c18c87cb2efa"
    },
    {
      "cell_type": "markdown",
      "source": "> چطور مستونسم تابع ریاضیاتس ی  نمودار شهام رو تقرسب بزنسم ؟",
      "metadata": {
        "color": "purple",
        "cell_id": "2b49e29ade694b3595e1d59252e22da5",
        "deepnote_cell_type": "text-cell-callout"
      },
      "block_group": "248d379d371d4bf5ac8dbac65e2e25bf"
    },
    {
      "cell_type": "markdown",
      "source": "برای تقریب زدن یک نمودار سهام با استفاده از یک تابع ریاضی، می‌توانیم از روش‌های مختلفی مانند رگرسیون چندجمله‌ای (Polynomial Regression) استفاده کنیم. این روش به ما اجازه می‌دهد تا یک تابع چندجمله‌ای را به داده‌های موجود برازش دهیم و نمودار تقریب زده شده را رسم کنیم.\n\nبیایید این کار را با استفاده از داده‌های قیمت بسته شدن (Close) سهام اپل انجام دهیم. ابتدا مدل رگرسیون چندجمله‌ای را آموزش می‌دهیم و سپس نمودار تقریب زده شده را رسم می‌کنیم.",
      "metadata": {
        "cell_id": "9769fbc6363a4e168164891dbfc527fc",
        "deepnote_cell_type": "text-cell-p"
      },
      "block_group": "87c6d9f57f2e40e59ab046365f4384fd"
    },
    {
      "cell_type": "code",
      "source": "from sklearn.preprocessing import PolynomialFeatures\nfrom sklearn.pipeline import make_pipeline\n\n# انتخاب ستون Close برای تحلیل\nclose_prices = apple_stock['Close'].reset_index(drop=True)\n\n# ایجاد ویژگی‌های چندجمله‌ای\ndegree = 4\npoly_features = PolynomialFeatures(degree=degree)\nX_poly = poly_features.fit_transform(np.arange(len(close_prices)).reshape(-1, 1))\n\n# ایجاد مدل رگرسیون چندجمله‌ای\npoly_model = make_pipeline(PolynomialFeatures(degree), LinearRegression())\n\n# آموزش مدل\npoly_model.fit(np.arange(len(close_prices)).reshape(-1, 1), close_prices)\n\n# پیش‌بینی قیمت‌ها با مدل چندجمله‌ای\nclose_prices_pred = poly_model.predict(np.arange(len(close_prices)).reshape(-1, 1))\n\n# ترسیم نتایج\nplt.figure(figsize=(12, 6))\nplt.plot(close_prices, label='Historical Prices')\nplt.plot(close_prices_pred, label=f'Polynomial Regression (degree={degree})', color='red')\nplt.title('Polynomial Regression Approximation')\nplt.xlabel('Time')\nplt.ylabel('Close Price')\nplt.legend()\nplt.show()",
      "metadata": {
        "source_hash": null,
        "execution_start": 1724011529237,
        "execution_millis": 134296,
        "deepnote_to_be_reexecuted": true,
        "cell_id": "5f4b3545f3114c86b768f27c3e3654f7",
        "deepnote_cell_type": "code"
      },
      "outputs": [],
      "outputs_reference": null,
      "execution_count": null,
      "block_group": "9d0066201acc4e1d889c59bcab8ca2ce",
      "content_dependencies": null
    },
    {
      "cell_type": "code",
      "source": "import numpy as np\nimport matplotlib.pyplot as plt\nfrom sklearn.linear_model import LinearRegression\nfrom sklearn.preprocessing import PolynomialFeatures\nfrom sklearn.pipeline import make_pipeline\n\n# انتخاب ستون Close برای تحلیل\nclose_prices = apple_stock['Close'].reset_index(drop=True)\n\n# ایجاد ویژگی‌های چندجمله‌ای\ndegree = 4\npoly_features = PolynomialFeatures(degree=degree)\nX_poly = poly_features.fit_transform(np.arange(len(close_prices)).reshape(-1, 1))\n\n# ایجاد مدل رگرسیون چندجمله‌ای\npoly_model = make_pipeline(PolynomialFeatures(degree), LinearRegression())\n\n# آموزش مدل\npoly_model.fit(np.arange(len(close_prices)).reshape(-1, 1), close_prices)\n\n# پیش‌بینی قیمت‌ها با مدل چندجمله‌ای\nclose_prices_pred = poly_model.predict(np.arange(len(close_prices)).reshape(-1, 1))\n\n# ترسیم نتایج\nplt.figure(figsize=(12, 6))\nplt.plot(close_prices, label='Historical Prices')\nplt.plot(close_prices_pred, label=f'Polynomial Regression (degree={degree})', color='red')\nplt.title('Polynomial Regression Approximation')\nplt.xlabel('Time')\nplt.ylabel('Close Price')\nplt.legend()\nplt.show()",
      "metadata": {
        "source_hash": null,
        "execution_start": 1724011668446,
        "execution_millis": 1113,
        "deepnote_to_be_reexecuted": false,
        "cell_id": "6f9bd5db75f04e24abf483ee0083ae8c",
        "deepnote_cell_type": "code"
      },
      "outputs": [],
      "outputs_reference": null,
      "execution_count": null,
      "block_group": "2715e7e8e1bc4c84aeb51182482c1dec",
      "content_dependencies": null
    },
    {
      "cell_type": "code",
      "source": "import yfinance as yf\nimport pandas as pd\n\n# دریافت داده‌های تاریخی سهام اپل\napple_stock = yf.download('AAPL', start='2020-01-01', end='2023-01-01')\n\n# انتخاب ستون Close برای تحلیل\nclose_prices = apple_stock['Close'].reset_index(drop=True)\n\n# ایجاد ویژگی‌های چندجمله‌ای\ndegree = 4\npoly_features = PolynomialFeatures(degree=degree)\nX_poly = poly_features.fit_transform(np.arange(len(close_prices)).reshape(-1, 1))\n\n# ایجاد مدل رگرسیون چندجمله‌ای\npoly_model = make_pipeline(PolynomialFeatures(degree), LinearRegression())\n\n# آموزش مدل\npoly_model.fit(np.arange(len(close_prices)).reshape(-1, 1), close_prices)\n\n# پیش‌بینی قیمت‌ها با مدل چندجمله‌ای\nclose_prices_pred = poly_model.predict(np.arange(len(close_prices)).reshape(-1, 1))\n\n# ترسیم نتایج\nplt.figure(figsize=(12, 6))\nplt.plot(close_prices, label='Historical Prices')\nplt.plot(close_prices_pred, label=f'Polynomial Regression (degree={degree})', color='red')\nplt.title('Polynomial Regression Approximation')\nplt.xlabel('Time')\nplt.ylabel('Close Price')\nplt.legend()\nplt.show()",
      "metadata": {
        "source_hash": null,
        "execution_start": 1724011674328,
        "execution_millis": 45,
        "deepnote_to_be_reexecuted": false,
        "cell_id": "5506d8801f3b4cbab3f103f101412761",
        "deepnote_cell_type": "code"
      },
      "outputs": [],
      "outputs_reference": null,
      "execution_count": null,
      "block_group": "2f433a6bfd9f4359a593afd20ffa6615",
      "content_dependencies": null
    },
    {
      "cell_type": "code",
      "source": "!pip install yfinance",
      "metadata": {
        "source_hash": null,
        "execution_start": 1724011675534,
        "execution_millis": 17356,
        "deepnote_to_be_reexecuted": false,
        "cell_id": "1cb83d5eda374cabba5cf6b1547515bb",
        "deepnote_cell_type": "code"
      },
      "outputs": [],
      "outputs_reference": null,
      "execution_count": null,
      "block_group": "7791f8f12d1d4e4bbbdabd2de198e80c",
      "content_dependencies": null
    },
    {
      "cell_type": "code",
      "source": "import yfinance as yf\nimport pandas as pd\n\n# دریافت داده‌های تاریخی سهام اپل\napple_stock = yf.download('AAPL', start='2020-01-01', end='2023-01-01')\n\n# انتخاب ستون Close برای تحلیل\nclose_prices = apple_stock['Close'].reset_index(drop=True)\n\n# ایجاد ویژگی‌های چندجمله‌ای\ndegree = 4\npoly_features = PolynomialFeatures(degree=degree)\nX_poly = poly_features.fit_transform(np.arange(len(close_prices)).reshape(-1, 1))\n\n# ایجاد مدل رگرسیون چندجمله‌ای\npoly_model = make_pipeline(PolynomialFeatures(degree), LinearRegression())\n\n# آموزش مدل\npoly_model.fit(np.arange(len(close_prices)).reshape(-1, 1), close_prices)\n\n# پیش‌بینی قیمت‌ها با مدل چندجمله‌ای\nclose_prices_pred = poly_model.predict(np.arange(len(close_prices)).reshape(-1, 1))\n\n# ترسیم نتایج\nplt.figure(figsize=(12, 6))\nplt.plot(close_prices, label='Historical Prices')\nplt.plot(close_prices_pred, label=f'Polynomial Regression (degree={degree})', color='red')\nplt.title('Polynomial Regression Approximation')\nplt.xlabel('Time')\nplt.ylabel('Close Price')\nplt.legend()\nplt.show()",
      "metadata": {
        "source_hash": null,
        "execution_start": 1724011698129,
        "execution_millis": 1159,
        "deepnote_to_be_reexecuted": false,
        "cell_id": "68554a662e6c43bca347d01a965ef103",
        "deepnote_cell_type": "code"
      },
      "outputs": [],
      "outputs_reference": null,
      "execution_count": null,
      "block_group": "639a52ab5a84424daf8344f89d4f0b14",
      "content_dependencies": null
    },
    {
      "cell_type": "markdown",
      "source": "نمودار تقریب زده شده با استفاده از رگرسیون چندجمله‌ای (Polynomial Regression) برای قیمت‌های بسته شدن سهام اپل رسم شد. این نمودار نشان‌دهنده تطابق تابع چندجمله‌ای با داده‌های تاریخی است.",
      "metadata": {
        "cell_id": "264f83ca638e4e44919b1c17299a7d6b",
        "deepnote_cell_type": "text-cell-p"
      },
      "block_group": "846f9df2b2f147229149549896d18050"
    },
    {
      "cell_type": "markdown",
      "source": "<a style='text-decoration:none;line-height:16px;display:flex;color:#5B5B62;padding:10px;justify-content:end;' href='https://deepnote.com?utm_source=created-in-deepnote-cell&projectId=18d553a4-31da-47a6-90e6-b2ebf6106d37' target=\"_blank\">\n<img alt='Created in deepnote.com' style='display:inline;max-height:16px;margin:0px;margin-right:7.5px;' src='data:image/svg+xml;base64,PD94bWwgdmVyc2lvbj0iMS4wIiBlbmNvZGluZz0iVVRGLTgiPz4KPHN2ZyB3aWR0aD0iODBweCIgaGVpZ2h0PSI4MHB4IiB2aWV3Qm94PSIwIDAgODAgODAiIHZlcnNpb249IjEuMSIgeG1sbnM9Imh0dHA6Ly93d3cudzMub3JnLzIwMDAvc3ZnIiB4bWxuczp4bGluaz0iaHR0cDovL3d3dy53My5vcmcvMTk5OS94bGluayI+CiAgICA8IS0tIEdlbmVyYXRvcjogU2tldGNoIDU0LjEgKDc2NDkwKSAtIGh0dHBzOi8vc2tldGNoYXBwLmNvbSAtLT4KICAgIDx0aXRsZT5Hcm91cCAzPC90aXRsZT4KICAgIDxkZXNjPkNyZWF0ZWQgd2l0aCBTa2V0Y2guPC9kZXNjPgogICAgPGcgaWQ9IkxhbmRpbmciIHN0cm9rZT0ibm9uZSIgc3Ryb2tlLXdpZHRoPSIxIiBmaWxsPSJub25lIiBmaWxsLXJ1bGU9ImV2ZW5vZGQiPgogICAgICAgIDxnIGlkPSJBcnRib2FyZCIgdHJhbnNmb3JtPSJ0cmFuc2xhdGUoLTEyMzUuMDAwMDAwLCAtNzkuMDAwMDAwKSI+CiAgICAgICAgICAgIDxnIGlkPSJHcm91cC0zIiB0cmFuc2Zvcm09InRyYW5zbGF0ZSgxMjM1LjAwMDAwMCwgNzkuMDAwMDAwKSI+CiAgICAgICAgICAgICAgICA8cG9seWdvbiBpZD0iUGF0aC0yMCIgZmlsbD0iIzAyNjVCNCIgcG9pbnRzPSIyLjM3NjIzNzYyIDgwIDM4LjA0NzY2NjcgODAgNTcuODIxNzgyMiA3My44MDU3NTkyIDU3LjgyMTc4MjIgMzIuNzU5MjczOSAzOS4xNDAyMjc4IDMxLjY4MzE2ODMiPjwvcG9seWdvbj4KICAgICAgICAgICAgICAgIDxwYXRoIGQ9Ik0zNS4wMDc3MTgsODAgQzQyLjkwNjIwMDcsNzYuNDU0OTM1OCA0Ny41NjQ5MTY3LDcxLjU0MjI2NzEgNDguOTgzODY2LDY1LjI2MTk5MzkgQzUxLjExMjI4OTksNTUuODQxNTg0MiA0MS42NzcxNzk1LDQ5LjIxMjIyODQgMjUuNjIzOTg0Niw0OS4yMTIyMjg0IEMyNS40ODQ5Mjg5LDQ5LjEyNjg0NDggMjkuODI2MTI5Niw0My4yODM4MjQ4IDM4LjY0NzU4NjksMzEuNjgzMTY4MyBMNzIuODcxMjg3MSwzMi41NTQ0MjUgTDY1LjI4MDk3Myw2Ny42NzYzNDIxIEw1MS4xMTIyODk5LDc3LjM3NjE0NCBMMzUuMDA3NzE4LDgwIFoiIGlkPSJQYXRoLTIyIiBmaWxsPSIjMDAyODY4Ij48L3BhdGg+CiAgICAgICAgICAgICAgICA8cGF0aCBkPSJNMCwzNy43MzA0NDA1IEwyNy4xMTQ1MzcsMC4yNTcxMTE0MzYgQzYyLjM3MTUxMjMsLTEuOTkwNzE3MDEgODAsMTAuNTAwMzkyNyA4MCwzNy43MzA0NDA1IEM4MCw2NC45NjA0ODgyIDY0Ljc3NjUwMzgsNzkuMDUwMzQxNCAzNC4zMjk1MTEzLDgwIEM0Ny4wNTUzNDg5LDc3LjU2NzA4MDggNTMuNDE4MjY3Nyw3MC4zMTM2MTAzIDUzLjQxODI2NzcsNTguMjM5NTg4NSBDNTMuNDE4MjY3Nyw0MC4xMjg1NTU3IDM2LjMwMzk1NDQsMzcuNzMwNDQwNSAyNS4yMjc0MTcsMzcuNzMwNDQwNSBDMTcuODQzMDU4NiwzNy43MzA0NDA1IDkuNDMzOTE5NjYsMzcuNzMwNDQwNSAwLDM3LjczMDQ0MDUgWiIgaWQ9IlBhdGgtMTkiIGZpbGw9IiMzNzkzRUYiPjwvcGF0aD4KICAgICAgICAgICAgPC9nPgogICAgICAgIDwvZz4KICAgIDwvZz4KPC9zdmc+' > </img>\nCreated in <span style='font-weight:600;margin-left:4px;'>Deepnote</span></a>",
      "metadata": {
        "created_in_deepnote_cell": true,
        "deepnote_cell_type": "markdown"
      }
    }
  ],
  "nbformat": 4,
  "nbformat_minor": 0,
  "metadata": {
    "deepnote_persisted_session": {
      "createdAt": "2024-08-18T20:25:19.228Z"
    },
    "deepnote_notebook_id": "d4b14bb7ba3b45a6abbc4f22b7b0136a",
    "deepnote_execution_queue": []
  }
}