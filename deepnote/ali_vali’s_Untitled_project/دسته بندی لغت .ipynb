{
  "cells": [
    {
      "cell_type": "markdown",
      "source": "> چرا   کی  کجا   کی   از کجا   به کجا   کاربرد  دلیلش   جنسش  متغیر یا ثابت    طریقه ساختن   مکانیزم   تعامل   تخصص  سطح  ابعاد   جهات   قابلیت   خواص   هدف   کاربرد برای من   مزایا   معایب   \nطول    عرض   ارتفاع    حجم   زمان   ساختار   طریقه عرضه   سینتکس   \nسوالات ترکیبی\nی فایلی برا مثالایی ک قراره اموزش داده بشه از کنترل خطی \nتحویل مرادی داده بشه\nمعیار\nدستور | درخواست | خواهش \nمعادل انگلیسی کلمات \nفصل\nهدر\nسرفصل\nمحتوا\nمثالات\nطراحی \nتولید\nترکیب\nبازیابی\nانتشار\nجذب\nکسر\nاضاف\nمقدم\nموخر\nنظم\nبی نظمی \nمتضاد\nبرنامه ریزی\nروش\nایده\nتصور\nتخیل\nتاثیر\nدرصد\nمحبت\nاحساسات\nهیجان\nرضایت\nبررسی\nجز\nکل\nجنبه ها\nمختاف\nشبیه\nنسبت ها\nابعاد\nمدار\nتوانایی\nپیچیده \nساده\nنتایج\nایجاد\nنابودی\nمواجهه\nبرخورد\nعملکرد\nصحیح\nغلط\nاندازه گیری\nیک\nچند\nزایش\nشکل\nموج\nالکتریکی\nقطعات\nیکدیگر\nنیاز\nطراحی\nشبیه سازی\nقبل بعد حین\nنسبی\nنسل\nاتصال\nجمع کلمات\nفرمول\nثابت\nمتغیر\nاستفاده\nدستگاه\n-گاه\nکیفیت\nکمیت\nمعیار\nمثبت\nکارای\n-ایی\nصنعت \nزباله\nوابستگی\nکنترل\nاتوماسیون\n-برداری\nتصویربرداری\nارتباط\n-ات\nسیستم\nدیدگاه\nهمراه\nجنس\n-ه\nم- مجتمع\nتست\n-یابی\nعیب یابی\nمخالف\nتعامل\nواژه سازی با صامت و مصوت ها تغییر\nجلوگیری\n-جلوگیری\n\n\nعواطف\nعوارض\nفواید\nخم\nانحنا\nراستی\nپیچ و تاب\nخمش\nجنگ\nصلح\nاصول\nمربع\nاضلاع \nوصل کردن اضلاع\nوصل کردن نقاط ب هم در محیط بسته\nتحلیل\nتصادفی\nسود\nضرر\nصدا\nمعنا\nمفهوم\nمترادف\nکارامد\nباند\nنیروها\nاسم نیروهای موجود\nنیازهای جامعه\nجذب مخاطب\nجوایز\nنفرات برتر\nهدف\nخاص\nخاصیت\nدسته بندی \nجداکردن , کشیدن , اینسرت , ایجاد , برش \n\nمتن بالا رو برام دسته بندی کن توی تاپیک های مختلف \nبصورت فایل مارک دون بنیوس \n",
      "metadata": {
        "color": "purple",
        "cell_id": "8a516767b7d0483b98dc545de15431da",
        "deepnote_cell_type": "text-cell-callout"
      },
      "block_group": "8cf60e4f9f3042318ab3df496fd55dde"
    },
    {
      "cell_type": "code",
      "source": "text = \"\"\"\nچرا   کی  کجا   کی   از کجا   به کجا   کاربرد  دلیلش   جنسش  متغیر یا ثابت    طریقه ساختن   مکانیزم   تعامل   تخصص  سطح  ابعاد   جهات   قابلیت   خواص   هدف   کاربرد برای من   مزایا   معایب   \nطول    عرض   ارتفاع    حجم   زمان   ساختار   طریقه عرضه   سینتکس   \nسوالات ترکیبی\nی فایلی برا مثالایی ک قراره اموزش داده بشه از کنترل خطی \nتحویل مرادی داده بشه\nمعیار\nدستور | درخواست | خواهش \nمعادل انگلیسی کلمات \nفصل\nهدر\nسرفصل\nمحتوا\nمثالات\nطراحی \nتولید\nترکیب\nبازیابی\nانتشار\nجذب\nکسر\nاضاف\nمقدم\nموخر\nنظم\nبی نظمی \nمتضاد\nبرنامه ریزی\nروش\nایده\nتصور\nتخیل\nتاثیر\nدرصد\nمحبت\nاحساسات\nهیجان\nرضایت\nبررسی\nجز\nکل\nجنبه ها\nمختاف\nشبیه\nنسبت ها\nابعاد\nمدار\nتوانایی\nپیچیده \nساده\nنتایج\nایجاد\nنابودی\nمواجهه\nبرخورد\nعملکرد\nصحیح\nغلط\nاندازه گیری\nیک\nچند\nزایش\nشکل\nموج\nالکتریکی\nقطعات\nیکدیگر\nنیاز\nطراحی\nشبیه سازی\nقبل بعد حین\nنسبی\nنسل\nاتصال\nجمع کلمات\nفرمول\nثابت\nمتغیر\nاستفاده\nدستگاه\n-گاه\nکیفیت\nکمیت\nمعیار\nمثبت\nکارای\n-ایی\nصنعت \nزباله\nوابستگی\nکنترل\nاتوماسیون\n-برداری\nتصویربرداری\nارتباط\n-ات\nسیستم\nدیدگاه\nهمراه\nجنس\n-ه\nم- مجتمع\nتست\n-یابی\nعیب یابی\nمخالف\nتعامل\nواژه سازی با صامت و مصوت ها تغییر\nجلوگیری\n-جلوگیری\n\n\nعواطف\nعوارض\nفواید\nخم\nانحنا\nراستی\nپیچ و تاب\nخمش\nجنگ\nصلح\nاصول\nمربع\nاضلاع \nوصل کردن اضلاع\nوصل کردن نقاط ب هم در محیط بسته\nتحلیل\nتصادفی\nسود\nضرر\nصدا\nمعنا\nمفهوم\nمترادف\nکارامد\nباند\nنیروها\nاسم نیروهای موجود\nنیازهای جامعه\nجذب مخاطب\nجوایز\nنفرات برتر\nهدف\nخاص\nخاصیت\nدسته بندی \nجداکردن , کشیدن , اینسرت , ایجاد , برش \n\"\"\"\n\ncategories = {\n    \"سوالات\": [\"چرا\", \"کی\", \"کجا\", \"از کجا\", \"به کجا\", \"سوالات ترکیبی\"],\n    \"ویژگی‌ها\": [\"کاربرد\", \"دلیلش\", \"جنسش\", \"متغیر یا ثابت\", \"طریقه ساختن\", \"مکانیزم\", \"تعامل\", \"تخصص\", \"سطح\", \"ابعاد\", \"جهات\", \"قابلیت\", \"خواص\", \"هدف\", \"کاربرد برای من\", \"مزایا\", \"معایب\"],\n    \"ابعاد و اندازه‌گیری\": [\"طول\", \"عرض\", \"ارتفاع\", \"حجم\", \"زمان\", \"ساختار\", \"طریقه عرضه\", \"سینتکس\"],\n    \"آموزش\": [\"ی فایلی برا مثالایی ک قراره اموزش داده بشه از کنترل خطی\", \"تحویل مرادی داده بشه\"],\n    \"دستور و درخواست\": [\"معیار\", \"دستور\", \"درخواست\", \"خواهش\"],\n    \"زبان\": [\"معادل انگلیسی کلمات\"],\n    \"محتوا\": [\"فصل\", \"هدر\", \"سرفصل\", \"محتوا\", \"مثالات\"],\n    \"فرآیندها\": [\"طراحی\", \"تولید\", \"ترکیب\", \"بازیابی\", \"انتشار\", \"جذب\", \"کسر\", \"اضاف\", \"مقدم\", \"موخر\", \"نظم\", \"بی نظمی\", \"متضاد\", \"برنامه ریزی\", \"روش\", \"ایده\", \"تصور\", \"تخیل\", \"تاثیر\", \"درصد\"],\n    \"احساسات\": [\"محبت\", \"احساسات\", \"هیجان\", \"رضایت\"],\n    \"تحلیل و بررسی\": [\"بررسی\", \"جز\", \"کل\", \"جنبه ها\", \"مختاف\", \"شبیه\", \"نسبت ها\", \"ابعاد\", \"مدار\", \"توانایی\", \"پیچیده\", \"ساده\", \"نتایج\", \"ایجاد\", \"نابودی\", \"مواجهه\", \"برخورد\", \"عملکرد\", \"صحیح\", \"غلط\", \"اندازه گیری\"],\n    \"مفاهیم\": [\"یک\", \"چند\", \"زایش\", \"شکل\", \"موج\", \"الکتریکی\", \"قطعات\", \"یکدیگر\", \"نیاز\", \"طراحی\", \"شبیه سازی\", \"قبل بعد حین\", \"نسبی\", \"نسل\", \"اتصال\", \"جمع کلمات\", \"فرمول\", \"ثابت\", \"متغیر\", \"استفاده\", \"دستگاه\", \"-گاه\", \"کیفیت\", \"کمیت\", \"معیار\", \"مثبت\", \"کارای\", \"-ایی\", \"صنعت\", \"زباله\", \"وابستگی\", \"کنترل\", \"اتوماسیون\", \"-برداری\", \"تصویربرداری\", \"ارتباط\", \"-ات\", \"سیستم\", \"دیدگاه\", \"همراه\", \"جنس\", \"-ه\", \"م- مجتمع\", \"تست\", \"-یابی\", \"عیب یابی\", \"مخالف\", \"تعامل\", \"واژه سازی با صامت و مصوت ها تغییر\", \"جلوگیری\", \"-جلوگیری\"],\n    \"عواطف و احساسات\": [\"عواطف\", \"عوارض\", \"فواید\"],\n    \"اشکال و نیروها\": [\"خم\", \"انحنا\", \"راستی\", \"پیچ و تاب\", \"خمش\", \"جنگ\", \"صلح\", \"اصول\", \"مربع\", \"اضلاع\", \"وصل کردن اضلاع\", \"وصل کردن نقاط ب هم در محیط بسته\"],\n    \"تحلیل و تصادفی\": [\"تحلیل\", \"تصادفی\"],\n    \"سود و ضرر\": [\"سود\", \"ضرر\"],\n    \"صدا و معنا\": [\"صدا\", \"معنا\", \"مفهوم\", \"مترادف\", \"کارامد\"],\n    \"نیروها و نیازها\": [\"باند\", \"نیروها\", \"اسم نیروهای موجود\", \"نیازهای جامعه\", \"جذب مخاطب\", \"جوایز\", \"نفرات برتر\"],\n    \"هدف و خاصیت\": [\"هدف\", \"خاص\", \"خاصیت\"],\n    \"دسته بندی و جداکردن\": [\"دسته بندی\", \"جداکردن\", \"کشیدن\", \"اینسرت\", \"ایجاد\", \"برش\"]\n}\n\nmarkdown_content = \"\"\nfor category, items in categories.items():\n    markdown_content += f\"## {category}\\n\"\n    for item in items:\n        markdown_content += f\"- {item}\\n\"\n    markdown_content += \"\\n\"\n\nwith open(\"categorized_text.md\", \"w\", encoding=\"utf-8\") as file:\n    file.write(markdown_content)\n",
      "metadata": {
        "source_hash": null,
        "execution_start": 1724271578649,
        "execution_millis": 187,
        "deepnote_to_be_reexecuted": false,
        "cell_id": "fe65c77587f743aa823a4cb88dd43d5b",
        "deepnote_cell_type": "code"
      },
      "outputs": [],
      "outputs_reference": null,
      "execution_count": null,
      "block_group": "26f4d22f597449c292146f25ca18d693",
      "content_dependencies": null
    },
    {
      "cell_type": "markdown",
      "source": "متن دسته‌بندی شده در فایل `categorized_text.md` ذخیره شد.",
      "metadata": {
        "cell_id": "010ce5e341ae479a91a8d137823bc3ee",
        "deepnote_cell_type": "text-cell-p"
      },
      "block_group": "84b030be32e74e74b573a8c292c40a0c"
    },
    {
      "cell_type": "code",
      "source": "categories",
      "metadata": {
        "source_hash": null,
        "execution_start": 1724271636748,
        "execution_millis": 36,
        "deepnote_to_be_reexecuted": false,
        "cell_id": "ceb0b04796704fce985e918e49048506",
        "deepnote_cell_type": "code"
      },
      "outputs": [],
      "outputs_reference": null,
      "execution_count": null,
      "block_group": "2ceeef7022cc4ed999156c34615ee222",
      "content_dependencies": null
    },
    {
      "cell_type": "code",
      "source": "category =",
      "metadata": {
        "cell_id": "95652bd6507f4b908ee4023ffc7e4145",
        "deepnote_cell_type": "code"
      },
      "outputs": [],
      "outputs_reference": null,
      "execution_count": null,
      "block_group": "98ae0cd2118f4b028b26aefc6b98efde",
      "content_dependencies": null
    },
    {
      "cell_type": "markdown",
      "source": "> fd",
      "metadata": {
        "color": "purple",
        "cell_id": "7a07c52a34074a399be3b40e54c069bf",
        "deepnote_cell_type": "text-cell-callout"
      },
      "block_group": "770301334d434825a413210053cf6397"
    },
    {
      "cell_type": "code",
      "source": "category = \"ویژگی\"\nprint(\"Hello\")",
      "metadata": {
        "source_hash": null,
        "execution_start": 1724271707815,
        "execution_millis": 198,
        "deepnote_to_be_reexecuted": false,
        "cell_id": "f891150994364e5d9683d23ff8a55c4b",
        "deepnote_cell_type": "code"
      },
      "outputs": [],
      "outputs_reference": null,
      "execution_count": null,
      "block_group": "99fc59765b7c4690b9c7bf719e9cc708",
      "content_dependencies": null
    },
    {
      "cell_type": "markdown",
      "source": "The items under the category \"دسته بندی و جداکردن\" are:\n- دسته بندی\n- جداکردن\n- کشیدن\n- اینسرت\n- ایجاد\n- برش",
      "metadata": {
        "cell_id": "3d1a793ed4d540df937f49220e4e9674",
        "deepnote_cell_type": "text-cell-p"
      },
      "block_group": "2bc507290a4c4782ac8af3d516d471eb"
    },
    {
      "cell_type": "markdown",
      "source": "> nlfap چی هست",
      "metadata": {
        "color": "purple",
        "cell_id": "51e74766ac864acb8adac65dc568d90d",
        "deepnote_cell_type": "text-cell-callout"
      },
      "block_group": "917dae0e39fa486295cfaf5b74d1d142"
    },
    {
      "cell_type": "markdown",
      "source": "NLFAP مخفف \"Natural Language Processing and Artificial Intelligence Platform\" است. این یک پلتفرم یا مجموعه ابزارهایی است که برای پردازش زبان طبیعی و هوش مصنوعی استفاده می‌شود. این پلتفرم‌ها معمولاً شامل ابزارها و تکنیک‌هایی برای تحلیل، درک و تولید زبان انسانی هستند. از جمله کاربردهای NLFAP می‌توان به تحلیل متون، ترجمه ماشینی، تشخیص گفتار، و تولید متن اشاره کرد.",
      "metadata": {
        "cell_id": "c3400c44c60845a989af80d5adae4416",
        "deepnote_cell_type": "text-cell-p"
      },
      "block_group": "6afed96892e947e3baa318bee39be167"
    },
    {
      "cell_type": "markdown",
      "source": "> nofap",
      "metadata": {
        "color": "purple",
        "cell_id": "7699f298e14c47b483e25d87fd9f0c5b",
        "deepnote_cell_type": "text-cell-callout"
      },
      "block_group": "ead86dbe628f474190a8db9ba28026e7"
    },
    {
      "cell_type": "markdown",
      "source": "NoFap is a movement and community that encourages individuals to abstain from pornography and masturbation. The term \"NoFap\" originated from the website NoFap.com, which provides resources, forums, and support for people who want to quit these habits. The movement is based on the belief that abstaining from pornography and masturbation can lead to various benefits, including improved mental health, increased energy, better relationships, and enhanced productivity. Participants often set personal goals and track their progress, sharing their experiences and challenges with the community for support and motivation.",
      "metadata": {
        "cell_id": "ada90add4d4c4f4e9627e799d548f067",
        "deepnote_cell_type": "text-cell-p"
      },
      "block_group": "494df4e1fb30494eb49e2daacfc1b02a"
    },
    {
      "cell_type": "markdown",
      "source": "> توضیح بده ",
      "metadata": {
        "color": "purple",
        "cell_id": "4fc2d7d47f804dc49f32c6105e7d1e5f",
        "deepnote_cell_type": "text-cell-callout"
      },
      "block_group": "f43f6cc01b0f49b7b9050346132ac342"
    },
    {
      "cell_type": "markdown",
      "source": "NoFap یک حرکت و جامعه است که افراد را تشویق می‌کند تا از تماشای پورنوگرافی و خودارضایی خودداری کنند. اصطلاح \"NoFap\" از وب‌سایت NoFap.com سرچشمه گرفته است که منابع، انجمن‌ها و پشتیبانی برای افرادی که می‌خواهند این عادات را ترک کنند، فراهم می‌کند. این حرکت بر این باور استوار است که خودداری از پورنوگرافی و خودارضایی می‌تواند به مزایای مختلفی منجر شود، از جمله بهبود سلامت روان، افزایش انرژی، بهبود روابط و افزایش بهره‌وری. شرکت‌کنندگان اغلب اهداف شخصی تعیین می‌کنند و پیشرفت خود را پیگیری می‌کنند، تجربیات و چالش‌های خود را با جامعه به اشتراک می‌گذارند تا از پشتیبانی و انگیزه برخوردار شوند.",
      "metadata": {
        "cell_id": "05f653bccfca4a63a82654dc43191e99",
        "deepnote_cell_type": "text-cell-p"
      },
      "block_group": "3f95254649df41c1be162000a45b0b42"
    },
    {
      "cell_type": "markdown",
      "source": "> چه برنامه ای هست که وقتی داریم از کلیدهای کیبورد کامپیوتر استفاده میکنیم , مثلا وقتی کلید ویندوز رو میزنیم , نمایش میده توی پایین صفحه ک : win \nو همینطور کلیدهای ترکیبی و بسیاری کلیدهار",
      "metadata": {
        "color": "purple",
        "cell_id": "221362f82b15444cba15fef1c64fd806",
        "deepnote_cell_type": "text-cell-callout"
      },
      "block_group": "8181038cfd704975ba0791e0251f4578"
    },
    {
      "cell_type": "markdown",
      "source": "برنامه‌های مختلفی وجود دارند که می‌توانند کلیدهای فشرده شده روی کیبورد را نمایش دهند. یکی از معروف‌ترین این برنامه‌ها \"Carnac\" است. این برنامه به شما اجازه می‌دهد تا کلیدهای فشرده شده را به صورت بصری در پایین صفحه نمایش دهید. \n\nهمچنین برنامه‌های دیگری مانند \"KeyCastr\" برای macOS و \"Screenkey\" برای لینوکس نیز وجود دارند که عملکرد مشابهی دارند.\n\nبرای نصب و استفاده از Carnac در ویندوز، می‌توانید به مراحل زیر عمل کنید:\n\n1. به صفحه GitHub پروژه Carnac بروید: [Carnac on GitHub](https://github.com/Code52/carnac)\n2. فایل اجرایی را دانلود و نصب کنید.\n3. برنامه را اجرا کنید و تنظیمات مورد نظر خود را اعمال کنید.\n\nاین برنامه به شما اجازه می‌دهد تا کلیدهای فشرده شده را به صورت زنده و در زمان واقعی مشاهده کنید.",
      "metadata": {
        "cell_id": "d29467dbad00438ca6c70b601dc8b79e",
        "deepnote_cell_type": "text-cell-p"
      },
      "block_group": "3a91348ceea645e381d5210991dc7745"
    },
    {
      "cell_type": "markdown",
      "source": "> قابلیتی توشون هست که لیست کلمات و میانبرهاییکه بکارمیبریم رو نشون بده ؟\n",
      "metadata": {
        "color": "purple",
        "cell_id": "0425c21c13284408a0ab970ad0fdf681",
        "deepnote_cell_type": "text-cell-callout"
      },
      "block_group": "ed0fbe77d392449986c14d8ace92ef84"
    },
    {
      "cell_type": "markdown",
      "source": "برنامه‌هایی مانند Carnac، KeyCastr و Screenkey به طور معمول فقط کلیدهای فشرده شده را به صورت زنده نمایش می‌دهند و قابلیت نمایش لیست کلمات و میانبرهای استفاده شده را ندارند. برای این منظور، شما می‌توانید از ابزارهای دیگری مانند Keyloggerها استفاده کنید که به شما اجازه می‌دهند تا کلیدهای فشرده شده را ثبت و ذخیره کنید. البته باید توجه داشته باشید که استفاده از Keyloggerها ممکن است مسائل امنیتی و حریم خصوصی را به همراه داشته باشد و باید با احتیاط و با رعایت قوانین و مقررات مربوطه استفاده شوند.\n\nیکی از ابزارهای معروف در این زمینه \"AutoHotkey\" است که می‌تواند برای ثبت و نمایش کلیدهای فشرده شده و میانبرهای استفاده شده به کار رود. با استفاده از اسکریپت‌های مناسب در AutoHotkey، می‌توانید این قابلیت را پیاده‌سازی کنید.",
      "metadata": {
        "cell_id": "1b3691af942145c8acc3f24e37df3931",
        "deepnote_cell_type": "text-cell-p"
      },
      "block_group": "acf29b1f7eed419586ab002f6ed3a750"
    },
    {
      "cell_type": "markdown",
      "source": "> keyloger چیه ",
      "metadata": {
        "color": "purple",
        "cell_id": "b1377b5ca42146fe86ba6f16677c8d7c",
        "deepnote_cell_type": "text-cell-callout"
      },
      "block_group": "32c5d098c6af40008fa4f604cff5ff39"
    },
    {
      "cell_type": "markdown",
      "source": "Keylogger یا \"ثبت‌کننده کلید\" یک نوع نرم‌افزار یا سخت‌افزار است که برای ثبت و ضبط کلیدهای فشرده شده روی کیبورد استفاده می‌شود. این ابزارها می‌توانند برای مقاصد مختلفی مورد استفاده قرار گیرند، از جمله:\n\n1. **نظارت والدین**: والدین می‌توانند از keyloggerها برای نظارت بر فعالیت‌های آنلاین فرزندان خود استفاده کنند.\n2. **نظارت بر کارمندان**: شرکت‌ها ممکن است از keyloggerها برای نظارت بر فعالیت‌های کارمندان خود استفاده کنند.\n3. **بازیابی اطلاعات**: در صورتی که اطلاعات مهمی مانند رمزهای عبور فراموش شوند، keyloggerها می‌توانند به بازیابی آنها کمک کنند.\n4. **تحقیقات امنیتی**: محققان امنیتی ممکن است از keyloggerها برای تحلیل رفتارهای کاربران و شناسایی تهدیدات امنیتی استفاده کنند.\n\nبا این حال، keyloggerها می‌توانند برای مقاصد مخرب نیز استفاده شوند، مانند سرقت اطلاعات شخصی و مالی کاربران. به همین دلیل، استفاده از keyloggerها باید با احتیاط و با رعایت قوانین و مقررات مربوطه انجام شود.",
      "metadata": {
        "cell_id": "c070603563244106b150facb82ce45a0",
        "deepnote_cell_type": "text-cell-p"
      },
      "block_group": "bb3b83f06d7f4da9bd906111be6e8ca3"
    },
    {
      "cell_type": "markdown",
      "source": "<a style='text-decoration:none;line-height:16px;display:flex;color:#5B5B62;padding:10px;justify-content:end;' href='https://deepnote.com?utm_source=created-in-deepnote-cell&projectId=18d553a4-31da-47a6-90e6-b2ebf6106d37' target=\"_blank\">\n<img alt='Created in deepnote.com' style='display:inline;max-height:16px;margin:0px;margin-right:7.5px;' src='data:image/svg+xml;base64,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' > </img>\nCreated in <span style='font-weight:600;margin-left:4px;'>Deepnote</span></a>",
      "metadata": {
        "created_in_deepnote_cell": true,
        "deepnote_cell_type": "markdown"
      }
    }
  ],
  "nbformat": 4,
  "nbformat_minor": 0,
  "metadata": {
    "deepnote_persisted_session": {
      "createdAt": "2024-08-21T20:40:39.524Z"
    },
    "deepnote_notebook_id": "3dab95c8f3a644daad5158137bc35fb0",
    "deepnote_execution_queue": []
  }
}